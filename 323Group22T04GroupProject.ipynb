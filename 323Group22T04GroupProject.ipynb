{
  "cells": [
    {
      "cell_type": "markdown",
      "metadata": {
        "id": "lvyINlKKwaOb"
      },
      "source": [
        "For this project, we will use Sentimental Analysis with Naive Bayes classifier to sort out Twitter's tweets into postive, neutral or negative emotions. This code will consist of 3 parts:\n",
        "1. Organise training, validation and test data and load them into the system.\n",
        "2. Develop a Naïve Bayes classifier (including optimising the hyper-parameters when needed) with the training set.\n",
        "3. Conduct a systematic evaluation of the trained classifier on the test set."
      ]
    },
    {
      "cell_type": "markdown",
      "metadata": {
        "id": "7EwqvriVKP3X"
      },
      "source": [
        "Firstly, we will load the data set and process the data."
      ]
    },
    {
      "cell_type": "code",
      "execution_count": 19,
      "metadata": {
        "colab": {
          "base_uri": "https://localhost:8080/",
          "height": 206
        },
        "id": "NEQBqh63KXHN",
        "outputId": "aa2ca8d7-bc61-403b-e700-992e630e4fba"
      },
      "outputs": [
        {
          "data": {
            "text/html": [
              "<div>\n",
              "<style scoped>\n",
              "    .dataframe tbody tr th:only-of-type {\n",
              "        vertical-align: middle;\n",
              "    }\n",
              "\n",
              "    .dataframe tbody tr th {\n",
              "        vertical-align: top;\n",
              "    }\n",
              "\n",
              "    .dataframe thead th {\n",
              "        text-align: right;\n",
              "    }\n",
              "</style>\n",
              "<table border=\"1\" class=\"dataframe\">\n",
              "  <thead>\n",
              "    <tr style=\"text-align: right;\">\n",
              "      <th></th>\n",
              "      <th>id</th>\n",
              "      <th>text</th>\n",
              "      <th>label</th>\n",
              "      <th>sentiment</th>\n",
              "    </tr>\n",
              "  </thead>\n",
              "  <tbody>\n",
              "    <tr>\n",
              "      <th>0</th>\n",
              "      <td>9536</td>\n",
              "      <td>Cooking microwave pizzas, yummy</td>\n",
              "      <td>2</td>\n",
              "      <td>positive</td>\n",
              "    </tr>\n",
              "    <tr>\n",
              "      <th>1</th>\n",
              "      <td>6135</td>\n",
              "      <td>Any plans of allowing sub tasks to show up in ...</td>\n",
              "      <td>1</td>\n",
              "      <td>neutral</td>\n",
              "    </tr>\n",
              "    <tr>\n",
              "      <th>2</th>\n",
              "      <td>17697</td>\n",
              "      <td>I love the humor, I just reworded it. Like sa...</td>\n",
              "      <td>2</td>\n",
              "      <td>positive</td>\n",
              "    </tr>\n",
              "    <tr>\n",
              "      <th>3</th>\n",
              "      <td>14182</td>\n",
              "      <td>naw idk what ur talkin about</td>\n",
              "      <td>1</td>\n",
              "      <td>neutral</td>\n",
              "    </tr>\n",
              "    <tr>\n",
              "      <th>4</th>\n",
              "      <td>17840</td>\n",
              "      <td>That sucks to hear. I hate days like that</td>\n",
              "      <td>0</td>\n",
              "      <td>negative</td>\n",
              "    </tr>\n",
              "  </tbody>\n",
              "</table>\n",
              "</div>"
            ],
            "text/plain": [
              "      id                                               text  label sentiment\n",
              "0   9536                    Cooking microwave pizzas, yummy      2  positive\n",
              "1   6135  Any plans of allowing sub tasks to show up in ...      1   neutral\n",
              "2  17697   I love the humor, I just reworded it. Like sa...      2  positive\n",
              "3  14182                       naw idk what ur talkin about      1   neutral\n",
              "4  17840          That sucks to hear. I hate days like that      0  negative"
            ]
          },
          "execution_count": 19,
          "metadata": {},
          "output_type": "execute_result"
        }
      ],
      "source": [
        "import pandas as pd\n",
        "\n",
        "#Load the dataset\n",
        "#Dataset 1\n",
        "url1 = [\n",
        "    \"https://huggingface.co/datasets/Sp1786/multiclass-sentiment-analysis-dataset/resolve/main/train_df.csv\",\n",
        "    \"https://huggingface.co/datasets/Sp1786/multiclass-sentiment-analysis-dataset/resolve/main/test_df.csv\",\n",
        "    \"https://huggingface.co/datasets/Sp1786/multiclass-sentiment-analysis-dataset/resolve/main/val_df.csv\"\n",
        "]\n",
        "\n",
        "df_data_1 = pd.concat([pd.read_csv(url) for url in url1], ignore_index=True)\n",
        "\n",
        "#Dataset 2\n",
        "url2 = [\n",
        "    \"https://huggingface.co/datasets/mteb/tweet_sentiment_extraction/resolve/main/train.jsonl\",\n",
        "    \"https://huggingface.co/datasets/mteb/tweet_sentiment_extraction/resolve/main/test.jsonl\"\n",
        "]\n",
        "df_data2 = pd.concat([pd.read_json(url, lines=True) for url in url2], ignore_index=True)\n",
        "\n",
        "#Rename df_data2[label_text] to df_data2[sentiment]\n",
        "df_data2.rename(columns={'label_text': 'sentiment'}, inplace=True)\n",
        "\n",
        "#Combine both datasets\n",
        "df_data = pd.concat([df_data_1, df_data2], ignore_index=True)\n",
        "\n",
        "df_data.head()"
      ]
    },
    {
      "cell_type": "markdown",
      "metadata": {
        "id": "4Z3G7FGDz9OC"
      },
      "source": [
        "We use the Natural Language Toolkit(NLTK) which is a comprehensive library for working with human language data. NLTK provides useful tools for text processing such as tokenization and lemmitization. Here is a quick overview and explanation of the other imports used in this portion of the code:\n",
        "1. The punkt tonkenizer model is used for dividing a text into a list of words or sentences. This is needed for tokenization tasks.\n",
        "2. A list of stopwords like \"and\", \"is\", \"the\", etc is downloaded which is often removed from text data to focus on more meaningful words.\n",
        "3. The WordNet database provides a large dictionary of words and their meanings, synonyms and antonymns. This is used for lemmatization where words are reduced to their base forms.\n",
        "4. The Open Multilingual WordNet package allows access to WordNet in multiple languages. Our dataset is multilingual so this helps us in multilingual text processing.\n",
        "5. Words is a list of English words which is used to filter or validate tokens to ensure that they are real words.\n",
        "6. 'word_tokenize' is a function that breaks down text into individual words.\n",
        "7. 'WordNetLemmatizer' is a tool that reduces words to their base form, eg 'running' to 'run'."
      ]
    },
    {
      "cell_type": "code",
      "execution_count": 20,
      "metadata": {
        "colab": {
          "base_uri": "https://localhost:8080/"
        },
        "id": "7qRwnbnnKfq2",
        "outputId": "fe3aef02-9f78-457c-94e5-b3dbc3e6ede8"
      },
      "outputs": [
        {
          "name": "stderr",
          "output_type": "stream",
          "text": [
            "[nltk_data] Downloading package punkt to\n",
            "[nltk_data]     C:\\Users\\ssyab\\AppData\\Roaming\\nltk_data...\n",
            "[nltk_data]   Package punkt is already up-to-date!\n",
            "[nltk_data] Downloading package stopwords to\n",
            "[nltk_data]     C:\\Users\\ssyab\\AppData\\Roaming\\nltk_data...\n",
            "[nltk_data]   Package stopwords is already up-to-date!\n",
            "[nltk_data] Downloading package wordnet to\n",
            "[nltk_data]     C:\\Users\\ssyab\\AppData\\Roaming\\nltk_data...\n",
            "[nltk_data]   Package wordnet is already up-to-date!\n",
            "[nltk_data] Downloading package omw-1.4 to\n",
            "[nltk_data]     C:\\Users\\ssyab\\AppData\\Roaming\\nltk_data...\n",
            "[nltk_data]   Package omw-1.4 is already up-to-date!\n",
            "[nltk_data] Downloading package words to\n",
            "[nltk_data]     C:\\Users\\ssyab\\AppData\\Roaming\\nltk_data...\n",
            "[nltk_data]   Package words is already up-to-date!\n"
          ]
        }
      ],
      "source": [
        "import nltk\n",
        "nltk.download('punkt')\n",
        "nltk.download('stopwords')\n",
        "nltk.download('wordnet')\n",
        "nltk.download('omw-1.4')\n",
        "nltk.download('words')\n",
        "from nltk.tokenize import word_tokenize\n",
        "from nltk.corpus import stopwords, words\n",
        "from nltk.stem import WordNetLemmatizer\n",
        "import string\n",
        "import re\n",
        "import emoji\n",
        "\n",
        "#Data processing\n",
        "#Convert text to lowercase\n",
        "df_data['text'] = df_data['text'].str.lower()\n",
        "\n",
        "# Function to convert emojis to text descriptions\n",
        "def convert_emojis_to_text(text):\n",
        "    if isinstance(text, str):\n",
        "        # Convert emojis to their text description and add a space before each emoji description\n",
        "        text = emoji.demojize(text)\n",
        "        text = re.sub(r':', ' ', text)  # Replace colons with spaces\n",
        "        return text.strip()  # Remove any leading or trailing whitespace\n",
        "    else:\n",
        "        return text\n",
        "\n",
        "# Apply emoji conversion to the text column\n",
        "df_data['text'] = df_data['text'].apply(convert_emojis_to_text)\n",
        "\n",
        "#Function to remove punctuation\n",
        "def remove_punctuation(text):\n",
        "    if isinstance(text, str):\n",
        "        return re.sub(f'[{re.escape(string.punctuation)}]', '', text)\n",
        "    else:\n",
        "        return text  # or return an empty string: ''\n",
        "\n",
        "#Apply punctuation removal to the text column\n",
        "df_data['text'] = df_data['text'].apply(remove_punctuation)\n",
        "\n",
        "#Function to remove stop words\n",
        "stop_words = set(stopwords.words('english'))\n",
        "\n",
        "def remove_stop_words(text):\n",
        "    if isinstance(text, str):\n",
        "        tokens = word_tokenize(text)\n",
        "        filtered_tokens = [word for word in tokens if word not in stop_words]\n",
        "        return ' '.join(filtered_tokens)\n",
        "    else:\n",
        "        return text\n",
        "\n",
        "#Apply stop word removal to the text column\n",
        "df_data['text'] = df_data['text'].apply(remove_stop_words)\n",
        "\n",
        "#Function to tokenize text\n",
        "def tokenize_text(text):\n",
        "    if isinstance(text, str):\n",
        "        return word_tokenize(text)\n",
        "    else:\n",
        "        return []\n",
        "\n",
        "#Apply tokenization to the text column\n",
        "df_data['tokens'] = df_data['text'].apply(tokenize_text)\n",
        "\n",
        "#Function to lemmatize tokens\n",
        "lemmatizer = WordNetLemmatizer()\n",
        "\n",
        "def lemmatize_tokens(tokens):\n",
        "    if isinstance(tokens, list):\n",
        "        return [lemmatizer.lemmatize(token) for token in tokens]\n",
        "    else:\n",
        "        return tokens\n",
        "\n",
        "#Apply lemmatization to the tokens column\n",
        "df_data['lemmatized_tokens'] = df_data['tokens'].apply(lemmatize_tokens)\n",
        "\n",
        "#Join lemmatized tokens back into strings\n",
        "df_data['lemmatized_text'] = df_data['lemmatized_tokens'].apply(lambda tokens: ' '.join(tokens))"
      ]
    },
    {
      "cell_type": "markdown",
      "metadata": {
        "id": "mFlquLD9Kn01"
      },
      "source": [
        "Next, we will do the test-train split: 70% of the dataset will be used for training the model and the remaining 30% is used for testing. We imported the 'train_test_split' function from scikit-learn module. This separation helps ensure that the model's performance metrics are reliable and that it doesn't overfit to the training data."
      ]
    },
    {
      "cell_type": "markdown",
      "metadata": {
        "id": "1GQBbAINKoik"
      },
      "source": [
        "We imported 'TfidVectorizer' from the Scikit-learn library where it is used to convert a collection of raw text documents into a matrix of TF-IDF (Term Frequency-Inverse Document Frequency) features. This matrix quantifies the importance of each word in a document relative to the entire corpus, helping to highlight words that are more relevant to each document."
      ]
    },
    {
      "cell_type": "code",
      "execution_count": 21,
      "metadata": {},
      "outputs": [
        {
          "data": {
            "text/html": [
              "<div>\n",
              "<style scoped>\n",
              "    .dataframe tbody tr th:only-of-type {\n",
              "        vertical-align: middle;\n",
              "    }\n",
              "\n",
              "    .dataframe tbody tr th {\n",
              "        vertical-align: top;\n",
              "    }\n",
              "\n",
              "    .dataframe thead th {\n",
              "        text-align: right;\n",
              "    }\n",
              "</style>\n",
              "<table border=\"1\" class=\"dataframe\">\n",
              "  <thead>\n",
              "    <tr style=\"text-align: right;\">\n",
              "      <th></th>\n",
              "      <th>id</th>\n",
              "      <th>text</th>\n",
              "      <th>label</th>\n",
              "      <th>sentiment</th>\n",
              "      <th>tokens</th>\n",
              "      <th>lemmatized_tokens</th>\n",
              "      <th>lemmatized_text</th>\n",
              "    </tr>\n",
              "  </thead>\n",
              "  <tbody>\n",
              "    <tr>\n",
              "      <th>174</th>\n",
              "      <td>8112</td>\n",
              "      <td>pileofpoo thumbsdown pileofpoo thumbsdown pile...</td>\n",
              "      <td>0</td>\n",
              "      <td>negative</td>\n",
              "      <td>[pileofpoo, thumbsdown, pileofpoo, thumbsdown,...</td>\n",
              "      <td>[pileofpoo, thumbsdown, pileofpoo, thumbsdown,...</td>\n",
              "      <td>pileofpoo thumbsdown pileofpoo thumbsdown pile...</td>\n",
              "    </tr>\n",
              "    <tr>\n",
              "      <th>26795</th>\n",
              "      <td>8112</td>\n",
              "      <td>july 21st means concert wont know songs oh wel...</td>\n",
              "      <td>1</td>\n",
              "      <td>neutral</td>\n",
              "      <td>[july, 21st, means, concert, wont, know, songs...</td>\n",
              "      <td>[july, 21st, mean, concert, wont, know, song, ...</td>\n",
              "      <td>july 21st mean concert wont know song oh well ...</td>\n",
              "    </tr>\n",
              "  </tbody>\n",
              "</table>\n",
              "</div>"
            ],
            "text/plain": [
              "         id                                               text  label  \\\n",
              "174    8112  pileofpoo thumbsdown pileofpoo thumbsdown pile...      0   \n",
              "26795  8112  july 21st means concert wont know songs oh wel...      1   \n",
              "\n",
              "      sentiment                                             tokens  \\\n",
              "174    negative  [pileofpoo, thumbsdown, pileofpoo, thumbsdown,...   \n",
              "26795   neutral  [july, 21st, means, concert, wont, know, songs...   \n",
              "\n",
              "                                       lemmatized_tokens  \\\n",
              "174    [pileofpoo, thumbsdown, pileofpoo, thumbsdown,...   \n",
              "26795  [july, 21st, mean, concert, wont, know, song, ...   \n",
              "\n",
              "                                         lemmatized_text  \n",
              "174    pileofpoo thumbsdown pileofpoo thumbsdown pile...  \n",
              "26795  july 21st mean concert wont know song oh well ...  "
            ]
          },
          "execution_count": 21,
          "metadata": {},
          "output_type": "execute_result"
        }
      ],
      "source": [
        "# Retrieve id = 8112\n",
        "df_data[df_data['id'] == 8112]"
      ]
    },
    {
      "cell_type": "code",
      "execution_count": 22,
      "metadata": {
        "id": "D7WahyjwKsJ3"
      },
      "outputs": [],
      "source": [
        "#Join the lemmatized tokens back into a single string\n",
        "df_data['processed_text'] = df_data['lemmatized_tokens'].apply(lambda tokens: ' '.join(tokens))"
      ]
    },
    {
      "cell_type": "code",
      "execution_count": 23,
      "metadata": {
        "id": "EbjCIKa8KuL1"
      },
      "outputs": [],
      "source": [
        "#Split the dataframe into inputs and expected outputs\n",
        "x = df_data['processed_text']\n",
        "y = df_data['label']\n",
        "\n",
        "from sklearn.model_selection import train_test_split\n",
        "#Split x and y into training sets and test sets\n",
        "#Split the dataset into 70% training and 30% testing\n",
        "x_train, x_test, y_train, y_test = train_test_split(x, y, test_size=0.3, random_state=4)\n",
        "\n",
        "from sklearn.feature_extraction.text import TfidfVectorizer\n",
        "#Initialize CountVectorizer and fit on training data\n",
        "vectorizer = TfidfVectorizer(ngram_range=(1, 2))\n",
        "vectorizer.fit(x_train)\n",
        "\n",
        "#Transform the training and test data\n",
        "x_train_vectorized = vectorizer.transform(x_train)\n",
        "x_test_vectorized = vectorizer.transform(x_test)"
      ]
    },
    {
      "cell_type": "markdown",
      "metadata": {
        "id": "e0HLztvqKzZ2"
      },
      "source": [
        "Now we move onto our second phase of the code where we will do the model training, testing and hyperparameter tuning."
      ]
    },
    {
      "cell_type": "markdown",
      "metadata": {
        "id": "maUP1ppGK-BO"
      },
      "source": [
        "We have decided to use the three different types of Naive Bayes Classifier which is the Multinomial, Complement and Bernoulli model and we will compare which model has the best accuracy. We have also calculated the confusion matrix and classification report to help us compare.\n",
        "1. Accuracy is defined as the porprotion of correct predictions made by the model out of the total number of predictions.\n",
        "2. The confusion matrix summarizes a classification model's performance by showing true positives, true negatives, false positives, and false negatives.\n",
        "3. The classification report offers a comprehensive summary of a model's performance by detailing key metrics such as precision (accuracy of positive predictions), recall (ability to identify all positive cases), F1-score (the harmonic mean of precision and recall), and support (the number of actual instances of each class). It provides an overall evaluation of how well the model performs across different classes, balancing precision and recall to give a clear picture of its effectiveness."
      ]
    },
    {
      "cell_type": "code",
      "execution_count": 24,
      "metadata": {
        "colab": {
          "base_uri": "https://localhost:8080/"
        },
        "id": "BdWhRuUHK9Rd",
        "outputId": "4e45f530-032a-4a8b-c3ee-0af526262157"
      },
      "outputs": [
        {
          "name": "stdout",
          "output_type": "stream",
          "text": [
            "MultinomialNB model accuracy is 80.27%\n",
            "------------------------------------------------\n",
            "Confusion Matrix:\n",
            "      0     1     2\n",
            "0  4221  1697   294\n",
            "1   347  7437   688\n",
            "2    84  1191  5839\n",
            "------------------------------------------------\n",
            "Classification Report:\n",
            "              precision    recall  f1-score   support\n",
            "\n",
            "           0       0.91      0.68      0.78      6212\n",
            "           1       0.72      0.88      0.79      8472\n",
            "           2       0.86      0.82      0.84      7114\n",
            "\n",
            "    accuracy                           0.80     21798\n",
            "   macro avg       0.83      0.79      0.80     21798\n",
            "weighted avg       0.82      0.80      0.80     21798\n",
            "\n"
          ]
        }
      ],
      "source": [
        "from sklearn.naive_bayes import MultinomialNB\n",
        "from sklearn.metrics import classification_report, confusion_matrix\n",
        "\n",
        "#Train a naive bayes classifier: MultinomialNB\n",
        "mnb = MultinomialNB()\n",
        "mnb.fit(x_train_vectorized, y_train)\n",
        "\n",
        "from sklearn import metrics\n",
        "mnb_predicted = mnb.predict(x_test_vectorized)\n",
        "accuracy_score_mnb = metrics.accuracy_score(y_test, mnb_predicted)\n",
        "mnb = MultinomialNB()\n",
        "mnb.fit(x_train_vectorized, y_train)\n",
        "\n",
        "print('MultinomialNB model accuracy is',str('{:04.2f}'.format(accuracy_score_mnb*100))+'%')\n",
        "print('------------------------------------------------')\n",
        "print('Confusion Matrix:')\n",
        "print(pd.DataFrame(confusion_matrix(y_test, mnb_predicted)))\n",
        "print('------------------------------------------------')\n",
        "print('Classification Report:')\n",
        "print(classification_report(y_test, mnb_predicted))"
      ]
    },
    {
      "cell_type": "code",
      "execution_count": 25,
      "metadata": {
        "colab": {
          "base_uri": "https://localhost:8080/"
        },
        "id": "ZjwpEb2CLKyl",
        "outputId": "957b4c69-6ad3-41e3-a645-eaca0bddb198"
      },
      "outputs": [
        {
          "name": "stdout",
          "output_type": "stream",
          "text": [
            "ComplementNB model accuracy is 82.68%\n",
            "------------------------------------------------\n",
            "Confusion Matrix:\n",
            "      0     1     2\n",
            "0  5201   615   396\n",
            "1   932  6465  1075\n",
            "2   218   540  6356\n",
            "------------------------------------------------\n",
            "Classification Report:\n",
            "              precision    recall  f1-score   support\n",
            "\n",
            "           0       0.82      0.84      0.83      6212\n",
            "           1       0.85      0.76      0.80      8472\n",
            "           2       0.81      0.89      0.85      7114\n",
            "\n",
            "    accuracy                           0.83     21798\n",
            "   macro avg       0.83      0.83      0.83     21798\n",
            "weighted avg       0.83      0.83      0.83     21798\n",
            "\n"
          ]
        }
      ],
      "source": [
        "from sklearn.naive_bayes import ComplementNB\n",
        "from sklearn.metrics import classification_report, confusion_matrix\n",
        "\n",
        "#Train a naive bayes classifier: ComplementNB\n",
        "cnb = ComplementNB()\n",
        "cnb.fit(x_train_vectorized, y_train)\n",
        "\n",
        "from sklearn import metrics\n",
        "cnb_predicted = cnb.predict(x_test_vectorized)\n",
        "accuracy_score_cnb = metrics.accuracy_score(y_test, cnb_predicted)\n",
        "\n",
        "print('ComplementNB model accuracy is',str('{:04.2f}'.format(accuracy_score_cnb*100))+'%')\n",
        "print('------------------------------------------------')\n",
        "print('Confusion Matrix:')\n",
        "print(pd.DataFrame(confusion_matrix(y_test, cnb_predicted)))\n",
        "print('------------------------------------------------')\n",
        "print('Classification Report:')\n",
        "print(classification_report(y_test, cnb_predicted))"
      ]
    },
    {
      "cell_type": "code",
      "execution_count": 26,
      "metadata": {
        "colab": {
          "base_uri": "https://localhost:8080/"
        },
        "id": "6lwH0xaILM3t",
        "outputId": "7c7ff33c-4f1b-4423-b7e4-f13a78a5fcbd"
      },
      "outputs": [
        {
          "name": "stdout",
          "output_type": "stream",
          "text": [
            "BernoulliNB model accuracy = 69.66%\n",
            "------------------------------------------------\n",
            "Confusion Matrix:\n",
            "      0     1     2\n",
            "0  2795  3274   143\n",
            "1   225  7894   353\n",
            "2    58  2561  4495\n",
            "------------------------------------------------\n",
            "Classification Report:\n",
            "              precision    recall  f1-score   support\n",
            "\n",
            "           0       0.91      0.45      0.60      6212\n",
            "           1       0.57      0.93      0.71      8472\n",
            "           2       0.90      0.63      0.74      7114\n",
            "\n",
            "    accuracy                           0.70     21798\n",
            "   macro avg       0.79      0.67      0.69     21798\n",
            "weighted avg       0.78      0.70      0.69     21798\n",
            "\n"
          ]
        }
      ],
      "source": [
        "from sklearn.naive_bayes import BernoulliNB\n",
        "\n",
        "#Train a naive bayes classifier: BernoulliNB\n",
        "bnb = BernoulliNB()\n",
        "bnb.fit(x_train_vectorized, y_train)\n",
        "\n",
        "bnb_predicted = bnb.predict(x_test_vectorized)\n",
        "accuracy_score_bnb = metrics.accuracy_score(y_test, bnb_predicted)\n",
        "\n",
        "print('BernoulliNB model accuracy = ' + str('{:4.2f}'.format(accuracy_score_bnb*100))+'%')\n",
        "print('------------------------------------------------')\n",
        "print('Confusion Matrix:')\n",
        "print(pd.DataFrame(confusion_matrix(y_test, bnb_predicted)))\n",
        "print('------------------------------------------------')\n",
        "print('Classification Report:')\n",
        "print(classification_report(y_test, bnb_predicted))"
      ]
    },
    {
      "cell_type": "markdown",
      "metadata": {
        "id": "GJjYrlioLRzp"
      },
      "source": [
        "After comparing, the complement model gave us the highest accuacy of 79%, followed by Multinomial then Bernoulli."
      ]
    },
    {
      "cell_type": "markdown",
      "metadata": {
        "id": "I8HhloJ-LSjX"
      },
      "source": [
        "Here we are calculating the ROC AUC score which tells how good the models are at identifying instances the 3 different classes: Negative, Neutral and Positive sentiments."
      ]
    },
    {
      "cell_type": "code",
      "execution_count": 27,
      "metadata": {
        "colab": {
          "base_uri": "https://localhost:8080/"
        },
        "id": "l2FtQXdCLUfk",
        "outputId": "789be28a-3b64-4b37-8935-c4f24e1487c5"
      },
      "outputs": [
        {
          "name": "stdout",
          "output_type": "stream",
          "text": [
            "Naive Bayes Multinomial ROC AUC Score: 0.9312\n",
            "Naive Bayes Complement ROC AUC Score: 0.9412\n",
            "Naive Bayes Bernoulli ROC AUC Score: 0.9271\n"
          ]
        }
      ],
      "source": [
        "from sklearn.metrics import roc_auc_score\n",
        "\n",
        "#Compare probabilities and ROC AUC score\n",
        "MNB_prob = mnb.predict_proba(x_test_vectorized)\n",
        "roc_auc_mnb = roc_auc_score(y_test, MNB_prob, multi_class='ovr')\n",
        "print(f'Naive Bayes Multinomial ROC AUC Score: {roc_auc_mnb:.4f}')\n",
        "\n",
        "CNB_prob = cnb.predict_proba(x_test_vectorized)\n",
        "roc_auc_cnb = roc_auc_score(y_test, CNB_prob, multi_class='ovr')\n",
        "print(f'Naive Bayes Complement ROC AUC Score: {roc_auc_cnb:.4f}')\n",
        "\n",
        "BNB_prob = bnb.predict_proba(x_test_vectorized)\n",
        "roc_auc_bnb = roc_auc_score(y_test, BNB_prob, multi_class='ovr')\n",
        "print(f'Naive Bayes Bernoulli ROC AUC Score: {roc_auc_bnb:.4f}')"
      ]
    },
    {
      "cell_type": "code",
      "execution_count": 28,
      "metadata": {
        "colab": {
          "base_uri": "https://localhost:8080/",
          "height": 472
        },
        "id": "mJGgxCh6OqAs",
        "outputId": "68f07a2c-d759-429b-9fee-75abc4b41fa8"
      },
      "outputs": [
        {
          "data": {
            "image/png": "[encoded data removed]",
            "text/plain": [
              "<Figure size 640x480 with 1 Axes>"
            ]
          },
          "metadata": {},
          "output_type": "display_data"
        }
      ],
      "source": [
        "from matplotlib import pyplot as plt\n",
        "from sklearn.metrics import roc_curve\n",
        "from sklearn.metrics import auc\n",
        "\n",
        "CNB_prob_before = cnb.predict_proba(x_test_vectorized)\n",
        "MNB_prob_before = mnb.predict_proba(x_test_vectorized)\n",
        "BNB_prob_before = bnb.predict_proba(x_test_vectorized)\n",
        "\n",
        "fpr1_before, tpr1_before, _ = roc_curve(y_test, CNB_prob_before[:,1], pos_label=1)\n",
        "fpr2_before, tpr2_before, _ = roc_curve(y_test, MNB_prob_before[:,1], pos_label=1)\n",
        "fpr3_before, tpr3_before, _ = roc_curve(y_test, BNB_prob_before[:,1], pos_label=1)\n",
        "\n",
        "#Plotting\n",
        "plt.plot(fpr1_before, tpr1_before, linestyle='--',color='red', label='CNB Model Before Tuning')\n",
        "plt.plot(fpr2_before, tpr2_before, linestyle='--',color='green', label='MNB Model Before Tuning')\n",
        "plt.plot(fpr3_before, tpr3_before, linestyle='--',color='blue', label='BNB Model Before Tuning')\n",
        "\n",
        "plt.title('ROC curve Before Hyperparameter Tuning')\n",
        "plt.xlabel('False Positive Rate')\n",
        "plt.ylabel('True Positive rate')\n",
        "plt.legend(loc='best')\n",
        "plt.savefig('ROC_Before_Tuning', dpi=300)\n",
        "plt.show();"
      ]
    },
    {
      "cell_type": "markdown",
      "metadata": {
        "id": "_MWSTBg0LeWm"
      },
      "source": [
        "The ROC (Receiver Operating Characteristic) curve visually represents a model's performance by plotting the true positive rate against the false positive rate at various classification thresholds. It helps assess the trade-off between sensitivity (true positives) and specificity (false positives). A model with a curve closer to the top left corner indicates better performance, and the area under the curve (AUC) quantifies overall accuracy."
      ]
    },
    {
      "cell_type": "markdown",
      "metadata": {
        "id": "_NSlW0qBLf00"
      },
      "source": [
        "From the results given above, the complement model has the best ROC AUC score of 0.9203."
      ]
    },
    {
      "cell_type": "markdown",
      "metadata": {
        "id": "HIoJwWpQLlB0"
      },
      "source": [
        "Here, we will do hyperparameter tuning for the 3 models and compare which model gives us a better accuracy after the model has been tuned."
      ]
    },
    {
      "cell_type": "code",
      "execution_count": 29,
      "metadata": {
        "colab": {
          "base_uri": "https://localhost:8080/"
        },
        "id": "hskTHgKXLojE",
        "outputId": "c947f997-70dd-4a39-bc0c-51540787abc4"
      },
      "outputs": [
        {
          "name": "stdout",
          "output_type": "stream",
          "text": [
            "Best Parameters: {'alpha': 0.1}\n",
            "Best Cross-Validation Score: 0.7870625245772709\n",
            "Best Hyperparameters: {'alpha': 0.1}\n",
            "Accuracy for multinomial model: 83.27369483438848%\n",
            "ROC AUC Score: 0.9552\n"
          ]
        }
      ],
      "source": [
        "from sklearn.model_selection import train_test_split, GridSearchCV\n",
        "from sklearn.metrics import accuracy_score\n",
        "#Vectorize the text data\n",
        "vectorizer = TfidfVectorizer(ngram_range=(1, 2))\n",
        "x_train_vec = vectorizer.fit_transform(x_train)\n",
        "x_test_vec = vectorizer.transform(x_test)\n",
        "\n",
        "#Define the hyperparameter grid\n",
        "param_grid = {\n",
        "    'alpha': [0.1, 0.5, 1.0, 5.0, 10.0]\n",
        "}\n",
        "\n",
        "#Perform GridSearchCV on multinomial model\n",
        "grid_search = GridSearchCV(mnb, param_grid, cv=5, scoring='accuracy')\n",
        "grid_search.fit(x_train_vec, y_train)\n",
        "\n",
        "#Print the best parameters and best score\n",
        "print(f\"Best Parameters: {grid_search.best_params_}\")\n",
        "print(f\"Best Cross-Validation Score: {grid_search.best_score_}\")\n",
        "\n",
        "#Get the best model and hyperparameters\n",
        "best_clf = grid_search.best_estimator_\n",
        "print(f'Best Hyperparameters: {grid_search.best_params_}')\n",
        "\n",
        "#Make predictions on the test set with the best model\n",
        "predictionsMNB = best_clf.predict(x_test_vec)\n",
        "\n",
        "#Retrain the model using the best parameters\n",
        "MNB_best_model = grid_search.best_estimator_\n",
        "MNB_best_model.fit(x_train_vec, y_train)\n",
        "\n",
        "#Calculate the accuracy\n",
        "accuracyMNB = accuracy_score(y_test, predictionsMNB)\n",
        "print(f'Accuracy for multinomial model: {accuracyMNB * 100}%')\n",
        "\n",
        "#Calculate ROC AUC Score\n",
        "MNB_prob = best_clf.predict_proba(x_test_vectorized)\n",
        "MNB_roc_auc = roc_auc_score(y_test, MNB_prob, multi_class='ovr')\n",
        "print(f'ROC AUC Score: {MNB_roc_auc:.4f}')"
      ]
    },
    {
      "cell_type": "code",
      "execution_count": 30,
      "metadata": {
        "colab": {
          "base_uri": "https://localhost:8080/"
        },
        "id": "mLQHfHngLsv-",
        "outputId": "721031ad-4e4a-49fc-8cda-4e2f73376946"
      },
      "outputs": [
        {
          "name": "stdout",
          "output_type": "stream",
          "text": [
            "Best Parameters: {'alpha': 1.0}\n",
            "Best Cross-Validation Score: 0.7897365316555249\n",
            "Best Hyperparameters: {'alpha': 1.0}\n",
            "Accuracy for complement model: 82.67730984493991%\n",
            "ROC AUC Score: 0.9412\n"
          ]
        }
      ],
      "source": [
        "from sklearn.model_selection import train_test_split, GridSearchCV\n",
        "from sklearn.metrics import accuracy_score\n",
        "#Vectorize the text data\n",
        "vectorizer = TfidfVectorizer(ngram_range=(1, 2))\n",
        "x_train_vec = vectorizer.fit_transform(x_train)\n",
        "x_test_vec = vectorizer.transform(x_test)\n",
        "\n",
        "#Define the hyperparameter grid\n",
        "param_grid = {\n",
        "    'alpha': [0.1, 0.5, 1.0, 5.0, 10.0]\n",
        "}\n",
        "\n",
        "#Perform GridSearchCV on complement model\n",
        "grid_search = GridSearchCV(cnb, param_grid, cv=5, scoring='accuracy')\n",
        "grid_search.fit(x_train_vec, y_train)\n",
        "\n",
        "#Print the best parameters and best score\n",
        "print(f\"Best Parameters: {grid_search.best_params_}\")\n",
        "print(f\"Best Cross-Validation Score: {grid_search.best_score_}\")\n",
        "\n",
        "#Get the best model and hyperparameters\n",
        "best_clf = grid_search.best_estimator_\n",
        "print(f'Best Hyperparameters: {grid_search.best_params_}')\n",
        "\n",
        "#Make predictions on the test set with the best model\n",
        "predictionsCNB = best_clf.predict(x_test_vec)\n",
        "\n",
        "#Retrain the model using the best parameters\n",
        "CNB_best_model = grid_search.best_estimator_\n",
        "CNB_best_model.fit(x_train_vec, y_train)\n",
        "\n",
        "#Calculate the accuracy\n",
        "accuracyCNB = accuracy_score(y_test, predictionsCNB)\n",
        "print(f'Accuracy for complement model: {accuracyCNB * 100}%')\n",
        "\n",
        "#Calculate ROC AUC Score\n",
        "CNB_prob = best_clf.predict_proba(x_test_vectorized)\n",
        "CNB_roc_auc = roc_auc_score(y_test, CNB_prob, multi_class='ovr')\n",
        "print(f'ROC AUC Score: {CNB_roc_auc:.4f}')"
      ]
    },
    {
      "cell_type": "code",
      "execution_count": 31,
      "metadata": {
        "colab": {
          "base_uri": "https://localhost:8080/"
        },
        "id": "9mzbT7NbLtqe",
        "outputId": "166bf71c-6216-46aa-a26f-7d1566db3aaa"
      },
      "outputs": [
        {
          "name": "stdout",
          "output_type": "stream",
          "text": [
            "Best Parameters: {'alpha': 0.1}\n",
            "Best Cross-Validation Score: 0.7743413291388125\n",
            "Best Hyperparameters: {'alpha': 0.1}\n",
            "Accuracy for bernoulli model: 81.8010826681347%\n",
            "ROC AUC Score: 0.9434\n"
          ]
        }
      ],
      "source": [
        "from sklearn.model_selection import train_test_split, GridSearchCV\n",
        "from sklearn.metrics import accuracy_score\n",
        "#Vectorize the text data\n",
        "vectorizer = TfidfVectorizer(ngram_range=(1, 2))\n",
        "x_train_vec = vectorizer.fit_transform(x_train)\n",
        "x_test_vec = vectorizer.transform(x_test)\n",
        "\n",
        "#Define the hyperparameter grid\n",
        "param_grid = {\n",
        "    'alpha': [0.1, 0.5, 1.0, 5.0, 10.0]\n",
        "}\n",
        "\n",
        "#Perform GridSearchCV on multinomial model\n",
        "grid_search = GridSearchCV(bnb, param_grid, cv=5, scoring='accuracy')\n",
        "grid_search.fit(x_train_vec, y_train)\n",
        "\n",
        "#Print the best parameters and best score\n",
        "print(f\"Best Parameters: {grid_search.best_params_}\")\n",
        "print(f\"Best Cross-Validation Score: {grid_search.best_score_}\")\n",
        "\n",
        "#Get the best model and hyperparameters\n",
        "best_clf = grid_search.best_estimator_\n",
        "print(f'Best Hyperparameters: {grid_search.best_params_}')\n",
        "\n",
        "#Make predictions on the test set with the best model\n",
        "predictionsBNB = best_clf.predict(x_test_vec)\n",
        "\n",
        "#Retrain the model using the best parameters\n",
        "BNB_best_model = grid_search.best_estimator_\n",
        "BNB_best_model.fit(x_train_vec, y_train)\n",
        "\n",
        "#Calculate the accuracy\n",
        "accuracyBNB = accuracy_score(y_test, predictionsBNB)\n",
        "print(f'Accuracy for bernoulli model: {accuracyBNB * 100}%')\n",
        "\n",
        "#Calculate ROC AUC Score\n",
        "BNB_prob = best_clf.predict_proba(x_test_vectorized)\n",
        "BNB_roc_auc = roc_auc_score(y_test, BNB_prob, multi_class='ovr')\n",
        "print(f'ROC AUC Score: {BNB_roc_auc:.4f}')"
      ]
    },
    {
      "cell_type": "code",
      "execution_count": 32,
      "metadata": {
        "colab": {
          "base_uri": "https://localhost:8080/"
        },
        "id": "y94yR0fULymo",
        "outputId": "1a04c6b5-7dd3-45f1-9b6a-dab7af053c16"
      },
      "outputs": [
        {
          "name": "stdout",
          "output_type": "stream",
          "text": [
            "Best Model: MNB\n",
            "ROC AUC Score: 0.9552\n",
            "Accuracy: 0.8327\n"
          ]
        }
      ],
      "source": [
        "#Set roc_auc to best model\n",
        "roc_auc = max(BNB_roc_auc, CNB_roc_auc, MNB_roc_auc)\n",
        "\n",
        "#Determine the best model based on roc_auc\n",
        "best_model = \"BNB\" if roc_auc == BNB_roc_auc else (\"CNB\" if roc_auc == CNB_roc_auc else \"MNB\")\n",
        "\n",
        "#Set predictions to best model\n",
        "predictions = globals()[f\"predictions{best_model}\"]\n",
        "\n",
        "#Set accuracy to best model\n",
        "accuracy = globals()[f\"accuracy{best_model}\"]\n",
        "\n",
        "print(f'Best Model: {best_model}')\n",
        "print(f'ROC AUC Score: {roc_auc:.4f}')\n",
        "print(f'Accuracy: {accuracy:.4f}')"
      ]
    },
    {
      "cell_type": "markdown",
      "metadata": {
        "id": "nA8oDh8AL2hh"
      },
      "source": [
        "After the hyperparameter tuning process, the best model based on the highest ROC AUC score and accuracy is the multinomial model. This means that the multinomial model is the most accurate in identifying negative, neutral and positive sentiments."
      ]
    },
    {
      "cell_type": "markdown",
      "metadata": {
        "id": "V5XcO4jTL40m"
      },
      "source": [
        "Lastly, we will do our final evaluation and analysis. Here, we plot the confusion matrix, classification report and roc auc graph for the multinomial model."
      ]
    },
    {
      "cell_type": "code",
      "execution_count": 33,
      "metadata": {
        "colab": {
          "base_uri": "https://localhost:8080/",
          "height": 472
        },
        "id": "XDwtkLbdL7sd",
        "outputId": "9dc1a545-de02-4c99-898e-0505c8337b05"
      },
      "outputs": [
        {
          "data": {
            "image/png": "[encoded data removed]",
            "text/plain": [
              "<Figure size 640x480 with 2 Axes>"
            ]
          },
          "metadata": {},
          "output_type": "display_data"
        }
      ],
      "source": [
        "from sklearn.metrics import ConfusionMatrixDisplay\n",
        "predictions = mnb.predict(x_test_vectorized)\n",
        "\n",
        "#Plot the confusion matrix\n",
        "cm = confusion_matrix(y_test, predictions, labels=[0, 1, 2])\n",
        "disp = ConfusionMatrixDisplay(confusion_matrix=cm, display_labels=['Negative', 'Neutral', 'Positive'])\n",
        "disp.plot(cmap=plt.cm.Blues)\n",
        "plt.title(\"Confusion Matrix\")\n",
        "plt.show()"
      ]
    },
    {
      "cell_type": "code",
      "execution_count": 34,
      "metadata": {
        "colab": {
          "base_uri": "https://localhost:8080/"
        },
        "id": "Moay927RL-XI",
        "outputId": "04e25e2b-f384-4010-b85b-07e1bbc0183a"
      },
      "outputs": [
        {
          "name": "stdout",
          "output_type": "stream",
          "text": [
            "              precision    recall  f1-score   support\n",
            "\n",
            "    Negative       0.91      0.68      0.78      6212\n",
            "     Neutral       0.72      0.88      0.79      8472\n",
            "    Positive       0.86      0.82      0.84      7114\n",
            "\n",
            "    accuracy                           0.80     21798\n",
            "   macro avg       0.83      0.79      0.80     21798\n",
            "weighted avg       0.82      0.80      0.80     21798\n",
            "\n"
          ]
        }
      ],
      "source": [
        "print(classification_report(y_test, mnb.predict(x_test_vectorized), target_names=[\"Negative\", \"Neutral\", \"Positive\"]))"
      ]
    },
    {
      "cell_type": "markdown",
      "metadata": {
        "id": "nIFNrpK7Apbn"
      },
      "source": [
        "Based on the results given by the multinomial model, the model shows the highest precision for the \"Negative\" class, indicating that it is more likely to be correct when predicting a negative sentiment. Then it is followed by \"Positive\" then \"Neutral\".\n",
        "\n",
        "---\n",
        "However, when we look at the recall score, the order is in the complete opposite: the model has the highest recall for the \"Neutral\" class, meaning it is more effective at identifying true \"Neutral\" instances. Afterwards, it is followed by \"Positive\" then \"Negative\".\n",
        "\n",
        "\n",
        "---\n",
        "\n",
        "This analysis indicates that while the model is good at making accurate predictions for the \"Negative\" class when it does so, it struggles more with recall, particularly in this class. Conversely, it is better at capturing all \"Neutral\" instances but struggles with precision, leading to more false positives for \"Neutral.\"\n"
      ]
    },
    {
      "cell_type": "code",
      "execution_count": 35,
      "metadata": {
        "colab": {
          "base_uri": "https://localhost:8080/",
          "height": 472
        },
        "id": "AP1MjsrZPUPg",
        "outputId": "1277d72f-59bb-4af9-ba8c-8f904acffe3e"
      },
      "outputs": [
        {
          "data": {
            "image/png": "[encoded data removed]",
            "text/plain": [
              "<Figure size 640x480 with 1 Axes>"
            ]
          },
          "metadata": {},
          "output_type": "display_data"
        }
      ],
      "source": [
        "#After hyperparameter tuning, generate new predictions\n",
        "CNB_prob_after = CNB_best_model.predict_proba(x_test_vectorized)\n",
        "MNB_prob_after = MNB_best_model.predict_proba(x_test_vectorized)\n",
        "BNB_prob_after = BNB_best_model.predict_proba(x_test_vectorized)\n",
        "\n",
        "#ROC curve after hyperparameter tuning\n",
        "fpr1_after, tpr1_after, _ = roc_curve(y_test, CNB_prob_after[:,1], pos_label=1)\n",
        "fpr2_after, tpr2_after, _ = roc_curve(y_test, MNB_prob_after[:,1], pos_label=1)\n",
        "fpr3_after, tpr3_after, _ = roc_curve(y_test, BNB_prob_after[:,1], pos_label=1)\n",
        "\n",
        "#Plotting\n",
        "plt.plot(fpr1_after, tpr1_after, linestyle='--',color='red', label='CNB Model After Tuning')\n",
        "plt.plot(fpr2_after, tpr2_after, linestyle='--',color='green', label='MNB Model After Tuning')\n",
        "plt.plot(fpr3_after, tpr3_after, linestyle='--',color='blue', label='BNB Model After Tuning')\n",
        "\n",
        "plt.title('ROC curve After Hyperparameter Tuning')\n",
        "plt.xlabel('False Positive Rate')\n",
        "plt.ylabel('True Positive rate')\n",
        "plt.legend(loc='best')\n",
        "plt.savefig('ROC_After_Tuning', dpi=300)\n",
        "plt.show();\n"
      ]
    },
    {
      "cell_type": "markdown",
      "metadata": {
        "id": "Lizyhfmhbxvd"
      },
      "source": [
        "The ROC curve corresponds with our results above where the best model that is able to identify correct instances of the 3 classes is the multinomial model. In conclusion, the best model with the highest accuracy is the Multinomial model with ROC AUC score of 0.9375 and accuracy of 81%."
      ]
    },
    {
      "cell_type": "code",
      "execution_count": 36,
      "metadata": {},
      "outputs": [
        {
          "name": "stdout",
          "output_type": "stream",
          "text": [
            "Model saved successfully!\n"
          ]
        }
      ],
      "source": [
        "import joblib\n",
        "\n",
        "# Save the model to a file\n",
        "joblib.dump(MNB_best_model, 'naive_bayes_model.pkl')\n",
        "joblib.dump(vectorizer, 'vectorizer.pkl')\n",
        "\n",
        "print(\"Model saved successfully!\")"
      ]
    }
  ],
  "metadata": {
    "colab": {
      "provenance": []
    },
    "kernelspec": {
      "display_name": "Python 3",
      "name": "python3"
    },
    "language_info": {
      "codemirror_mode": {
        "name": "ipython",
        "version": 3
      },
      "file_extension": ".py",
      "mimetype": "text/x-python",
      "name": "python",
      "nbconvert_exporter": "python",
      "pygments_lexer": "ipython3",
      "version": "3.12.4"
    }
  },
  "nbformat": 4,
  "nbformat_minor": 0
}
