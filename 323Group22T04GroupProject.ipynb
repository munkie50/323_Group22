{
  "cells": [
    {
      "cell_type": "markdown",
      "metadata": {
        "id": "lvyINlKKwaOb"
      },
      "source": [
        "For this project, we will use Sentimental Analysis with Naive Bayes classifier to sort out Twitter's tweets into postive, neutral or negative emotions. This code will consist of 3 parts:\n",
        "1. Organise training, validation and test data and load them into the system.\n",
        "2. Develop a Naïve Bayes classifier (including optimising the hyper-parameters when needed) with the training set.\n",
        "3. Conduct a systematic evaluation of the trained classifier on the test set."
      ]
    },
    {
      "cell_type": "markdown",
      "metadata": {
        "id": "7EwqvriVKP3X"
      },
      "source": [
        "Firstly, we will load the data set and process the data."
      ]
    },
    {
      "cell_type": "code",
      "execution_count": 1,
      "metadata": {
        "colab": {
          "base_uri": "https://localhost:8080/",
          "height": 206
        },
        "id": "NEQBqh63KXHN",
        "outputId": "aa2ca8d7-bc61-403b-e700-992e630e4fba"
      },
      "outputs": [
        {
          "data": {
            "text/html": [
              "<div>\n",
              "<style scoped>\n",
              "    .dataframe tbody tr th:only-of-type {\n",
              "        vertical-align: middle;\n",
              "    }\n",
              "\n",
              "    .dataframe tbody tr th {\n",
              "        vertical-align: top;\n",
              "    }\n",
              "\n",
              "    .dataframe thead th {\n",
              "        text-align: right;\n",
              "    }\n",
              "</style>\n",
              "<table border=\"1\" class=\"dataframe\">\n",
              "  <thead>\n",
              "    <tr style=\"text-align: right;\">\n",
              "      <th></th>\n",
              "      <th>id</th>\n",
              "      <th>text</th>\n",
              "      <th>label</th>\n",
              "      <th>sentiment</th>\n",
              "    </tr>\n",
              "  </thead>\n",
              "  <tbody>\n",
              "    <tr>\n",
              "      <th>0</th>\n",
              "      <td>9536</td>\n",
              "      <td>Cooking microwave pizzas, yummy</td>\n",
              "      <td>2</td>\n",
              "      <td>positive</td>\n",
              "    </tr>\n",
              "    <tr>\n",
              "      <th>1</th>\n",
              "      <td>6135</td>\n",
              "      <td>Any plans of allowing sub tasks to show up in ...</td>\n",
              "      <td>1</td>\n",
              "      <td>neutral</td>\n",
              "    </tr>\n",
              "    <tr>\n",
              "      <th>2</th>\n",
              "      <td>17697</td>\n",
              "      <td>I love the humor, I just reworded it. Like sa...</td>\n",
              "      <td>2</td>\n",
              "      <td>positive</td>\n",
              "    </tr>\n",
              "    <tr>\n",
              "      <th>3</th>\n",
              "      <td>14182</td>\n",
              "      <td>naw idk what ur talkin about</td>\n",
              "      <td>1</td>\n",
              "      <td>neutral</td>\n",
              "    </tr>\n",
              "    <tr>\n",
              "      <th>4</th>\n",
              "      <td>17840</td>\n",
              "      <td>That sucks to hear. I hate days like that</td>\n",
              "      <td>0</td>\n",
              "      <td>negative</td>\n",
              "    </tr>\n",
              "  </tbody>\n",
              "</table>\n",
              "</div>"
            ],
            "text/plain": [
              "      id                                               text  label sentiment\n",
              "0   9536                    Cooking microwave pizzas, yummy      2  positive\n",
              "1   6135  Any plans of allowing sub tasks to show up in ...      1   neutral\n",
              "2  17697   I love the humor, I just reworded it. Like sa...      2  positive\n",
              "3  14182                       naw idk what ur talkin about      1   neutral\n",
              "4  17840          That sucks to hear. I hate days like that      0  negative"
            ]
          },
          "execution_count": 1,
          "metadata": {},
          "output_type": "execute_result"
        }
      ],
      "source": [
        "import pandas as pd\n",
        "\n",
        "#Load the dataset\n",
        "#Dataset 1\n",
        "url1 = [\n",
        "    \"https://huggingface.co/datasets/Sp1786/multiclass-sentiment-analysis-dataset/resolve/main/train_df.csv\",\n",
        "    \"https://huggingface.co/datasets/Sp1786/multiclass-sentiment-analysis-dataset/resolve/main/test_df.csv\",\n",
        "    \"https://huggingface.co/datasets/Sp1786/multiclass-sentiment-analysis-dataset/resolve/main/val_df.csv\"\n",
        "]\n",
        "\n",
        "df_data_1 = pd.concat([pd.read_csv(url) for url in url1], ignore_index=True)\n",
        "\n",
        "#Dataset 2\n",
        "url2 = [\n",
        "    \"https://huggingface.co/datasets/mteb/tweet_sentiment_extraction/resolve/main/train.jsonl\",\n",
        "    \"https://huggingface.co/datasets/mteb/tweet_sentiment_extraction/resolve/main/test.jsonl\"\n",
        "]\n",
        "df_data2 = pd.concat([pd.read_json(url, lines=True) for url in url2], ignore_index=True)\n",
        "\n",
        "#Rename df_data2[label_text] to df_data2[sentiment]\n",
        "df_data2.rename(columns={'label_text': 'sentiment'}, inplace=True)\n",
        "\n",
        "#Combine both datasets\n",
        "df_data = pd.concat([df_data_1, df_data2], ignore_index=True)\n",
        "\n",
        "df_data.head()"
      ]
    },
    {
      "cell_type": "markdown",
      "metadata": {
        "id": "4Z3G7FGDz9OC"
      },
      "source": [
        "We use the Natural Language Toolkit(NLTK) which is a comprehensive library for working with human language data. NLTK provides useful tools for text processing such as tokenization and lemmitization. Here is a quick overview and explanation of the other imports used in this portion of the code:\n",
        "1. The punkt tonkenizer model is used for dividing a text into a list of words or sentences. This is needed for tokenization tasks.\n",
        "2. A list of stopwords like \"and\", \"is\", \"the\", etc is downloaded which is often removed from text data to focus on more meaningful words.\n",
        "3. The WordNet database provides a large dictionary of words and their meanings, synonyms and antonymns. This is used for lemmatization where words are reduced to their base forms.\n",
        "4. The Open Multilingual WordNet package allows access to WordNet in multiple languages. Our dataset is multilingual so this helps us in multilingual text processing.\n",
        "5. Words is a list of English words which is used to filter or validate tokens to ensure that they are real words.\n",
        "6. 'word_tokenize' is a function that breaks down text into individual words.\n",
        "7. 'WordNetLemmatizer' is a tool that reduces words to their base form, eg 'running' to 'run'."
      ]
    },
    {
      "cell_type": "code",
      "execution_count": 2,
      "metadata": {
        "colab": {
          "base_uri": "https://localhost:8080/"
        },
        "id": "7qRwnbnnKfq2",
        "outputId": "fe3aef02-9f78-457c-94e5-b3dbc3e6ede8"
      },
      "outputs": [
        {
          "name": "stderr",
          "output_type": "stream",
          "text": [
            "[nltk_data] Downloading package punkt to\n",
            "[nltk_data]     C:\\Users\\ssyab\\AppData\\Roaming\\nltk_data...\n",
            "[nltk_data]   Package punkt is already up-to-date!\n",
            "[nltk_data] Downloading package stopwords to\n",
            "[nltk_data]     C:\\Users\\ssyab\\AppData\\Roaming\\nltk_data...\n",
            "[nltk_data]   Package stopwords is already up-to-date!\n",
            "[nltk_data] Downloading package wordnet to\n",
            "[nltk_data]     C:\\Users\\ssyab\\AppData\\Roaming\\nltk_data...\n",
            "[nltk_data]   Package wordnet is already up-to-date!\n",
            "[nltk_data] Downloading package omw-1.4 to\n",
            "[nltk_data]     C:\\Users\\ssyab\\AppData\\Roaming\\nltk_data...\n",
            "[nltk_data]   Package omw-1.4 is already up-to-date!\n",
            "[nltk_data] Downloading package words to\n",
            "[nltk_data]     C:\\Users\\ssyab\\AppData\\Roaming\\nltk_data...\n",
            "[nltk_data]   Package words is already up-to-date!\n",
            "C:\\Users\\ssyab\\AppData\\Local\\Temp\\ipykernel_29104\\1250548081.py:42: FutureWarning: A value is trying to be set on a copy of a DataFrame or Series through chained assignment using an inplace method.\n",
            "The behavior will change in pandas 3.0. This inplace method will never work because the intermediate object on which we are setting values always behaves as a copy.\n",
            "\n",
            "For example, when doing 'df[col].method(value, inplace=True)', try using 'df.method({col: value}, inplace=True)' or df[col] = df[col].method(value) instead, to perform the operation inplace on the original object.\n",
            "\n",
            "\n",
            "  df_data['text'].fillna('', inplace=True)\n"
          ]
        }
      ],
      "source": [
        "import nltk\n",
        "nltk.download('punkt')\n",
        "nltk.download('stopwords')\n",
        "nltk.download('wordnet')\n",
        "nltk.download('omw-1.4')\n",
        "nltk.download('words')\n",
        "from nltk.tokenize import word_tokenize\n",
        "from nltk.corpus import stopwords, words\n",
        "from nltk.stem import WordNetLemmatizer\n",
        "import string\n",
        "import re\n",
        "\n",
        "#Data processing\n",
        "#Convert text to lowercase\n",
        "df_data['text'] = df_data['text'].str.lower()\n",
        "\n",
        "#Function to remove punctuation\n",
        "def remove_punctuation(text):\n",
        "    if isinstance(text, str):\n",
        "        return re.sub(f'[{re.escape(string.punctuation)}]', '', text)\n",
        "    else:\n",
        "        return text  # or return an empty string: ''\n",
        "\n",
        "#Apply punctuation removal to the text column\n",
        "df_data['text'] = df_data['text'].apply(remove_punctuation)\n",
        "\n",
        "#Function to remove stop words\n",
        "stop_words = set(stopwords.words('english'))\n",
        "\n",
        "def remove_stop_words(text):\n",
        "    if isinstance(text, str):\n",
        "        tokens = word_tokenize(text)\n",
        "        filtered_tokens = [word for word in tokens if word not in stop_words]\n",
        "        return ' '.join(filtered_tokens)\n",
        "    else:\n",
        "        return text\n",
        "\n",
        "#Apply stop word removal to the text column\n",
        "df_data['text'] = df_data['text'].apply(remove_stop_words)\n",
        "\n",
        "# Check for NaN values in the 'text' column and replace them with an empty string\n",
        "df_data['text'].fillna('', inplace=True)\n",
        "\n",
        "# Function to lemmatize text\n",
        "lemmatizer = WordNetLemmatizer()\n",
        "\n",
        "def lemmatize_text(text):\n",
        "    if isinstance(text, str):\n",
        "        tokens = word_tokenize(text)\n",
        "        lemmatized_tokens = [lemmatizer.lemmatize(word) for word in tokens]\n",
        "        return ' '.join(lemmatized_tokens)\n",
        "    else:\n",
        "        return text\n",
        "    \n",
        "# Apply lemmatization to the text column\n",
        "df_data['text'] = df_data['text'].apply(lemmatize_text)"
      ]
    },
    {
      "cell_type": "markdown",
      "metadata": {
        "id": "mFlquLD9Kn01"
      },
      "source": [
        "Next, we will do the test-train split: 70% of the dataset will be used for training the model and the remaining 30% is used for testing. We imported the 'train_test_split' function from scikit-learn module. This separation helps ensure that the model's performance metrics are reliable and that it doesn't overfit to the training data."
      ]
    },
    {
      "cell_type": "markdown",
      "metadata": {
        "id": "1GQBbAINKoik"
      },
      "source": [
        "We imported 'TfidVectorizer' from the Scikit-learn library where it is used to convert a collection of raw text documents into a matrix of TF-IDF (Term Frequency-Inverse Document Frequency) features. This matrix quantifies the importance of each word in a document relative to the entire corpus, helping to highlight words that are more relevant to each document."
      ]
    },
    {
      "cell_type": "code",
      "execution_count": 3,
      "metadata": {},
      "outputs": [
        {
          "data": {
            "text/html": [
              "<div>\n",
              "<style scoped>\n",
              "    .dataframe tbody tr th:only-of-type {\n",
              "        vertical-align: middle;\n",
              "    }\n",
              "\n",
              "    .dataframe tbody tr th {\n",
              "        vertical-align: top;\n",
              "    }\n",
              "\n",
              "    .dataframe thead th {\n",
              "        text-align: right;\n",
              "    }\n",
              "</style>\n",
              "<table border=\"1\" class=\"dataframe\">\n",
              "  <thead>\n",
              "    <tr style=\"text-align: right;\">\n",
              "      <th></th>\n",
              "      <th>id</th>\n",
              "      <th>text</th>\n",
              "      <th>label</th>\n",
              "      <th>sentiment</th>\n",
              "    </tr>\n",
              "  </thead>\n",
              "  <tbody>\n",
              "    <tr>\n",
              "      <th>174</th>\n",
              "      <td>8112</td>\n",
              "      <td>💩👎💩👎💩👎💩 👻☠️ impossible delete list sub list ta...</td>\n",
              "      <td>0</td>\n",
              "      <td>negative</td>\n",
              "    </tr>\n",
              "    <tr>\n",
              "      <th>26795</th>\n",
              "      <td>8112</td>\n",
              "      <td>july 21st mean concert wont know song oh well ...</td>\n",
              "      <td>1</td>\n",
              "      <td>neutral</td>\n",
              "    </tr>\n",
              "  </tbody>\n",
              "</table>\n",
              "</div>"
            ],
            "text/plain": [
              "         id                                               text  label  \\\n",
              "174    8112  💩👎💩👎💩👎💩 👻☠️ impossible delete list sub list ta...      0   \n",
              "26795  8112  july 21st mean concert wont know song oh well ...      1   \n",
              "\n",
              "      sentiment  \n",
              "174    negative  \n",
              "26795   neutral  "
            ]
          },
          "execution_count": 3,
          "metadata": {},
          "output_type": "execute_result"
        }
      ],
      "source": [
        "# Retrieve id = 8112\n",
        "df_data[df_data['id'] == 8112]"
      ]
    },
    {
      "cell_type": "code",
      "execution_count": 4,
      "metadata": {
        "id": "EbjCIKa8KuL1"
      },
      "outputs": [
        {
          "name": "stderr",
          "output_type": "stream",
          "text": [
            "c:\\Software\\Python\\Lib\\site-packages\\sklearn\\feature_extraction\\text.py:521: UserWarning: The parameter 'token_pattern' will not be used since 'tokenizer' is not None'\n",
            "  warnings.warn(\n"
          ]
        }
      ],
      "source": [
        "# Split the dataframe into inputs and expected outputs\n",
        "x = df_data['text']\n",
        "y = df_data['label']\n",
        "\n",
        "from sklearn.model_selection import train_test_split\n",
        "# Split the dataset into 70% training and 30% testing\n",
        "x_train, x_test, y_train, y_test = train_test_split(x, y, test_size=0.3, random_state=4)\n",
        "\n",
        "# Initialize TfidfVectorizer and fit on training data\n",
        "from sklearn.feature_extraction.text import TfidfVectorizer\n",
        "def custom_tokenizer(text):\n",
        "    # This regex pattern will match words and emojis\n",
        "    pattern = r'\\w+|[^\\w\\s]'\n",
        "    return re.findall(pattern, text)\n",
        "vectorizer = TfidfVectorizer(ngram_range=(1, 2), tokenizer=custom_tokenizer)\n",
        "vectorizer.fit(x_train)\n",
        "\n",
        "# Transform the training and test data\n",
        "x_train_vectorized = vectorizer.transform(x_train)\n",
        "x_test_vectorized = vectorizer.transform(x_test)"
      ]
    },
    {
      "cell_type": "markdown",
      "metadata": {
        "id": "e0HLztvqKzZ2"
      },
      "source": [
        "Now we move onto our second phase of the code where we will do the model training, testing and hyperparameter tuning."
      ]
    },
    {
      "cell_type": "markdown",
      "metadata": {
        "id": "maUP1ppGK-BO"
      },
      "source": [
        "We have decided to use the three different types of Naive Bayes Classifier which is the Multinomial, Complement and Bernoulli model and we will compare which model has the best accuracy. We have also calculated the confusion matrix and classification report to help us compare.\n",
        "1. Accuracy is defined as the porprotion of correct predictions made by the model out of the total number of predictions.\n",
        "2. The confusion matrix summarizes a classification model's performance by showing true positives, true negatives, false positives, and false negatives.\n",
        "3. The classification report offers a comprehensive summary of a model's performance by detailing key metrics such as precision (accuracy of positive predictions), recall (ability to identify all positive cases), F1-score (the harmonic mean of precision and recall), and support (the number of actual instances of each class). It provides an overall evaluation of how well the model performs across different classes, balancing precision and recall to give a clear picture of its effectiveness."
      ]
    },
    {
      "cell_type": "code",
      "execution_count": 5,
      "metadata": {
        "colab": {
          "base_uri": "https://localhost:8080/"
        },
        "id": "BdWhRuUHK9Rd",
        "outputId": "4e45f530-032a-4a8b-c3ee-0af526262157"
      },
      "outputs": [
        {
          "name": "stdout",
          "output_type": "stream",
          "text": [
            "MultinomialNB model accuracy is 80.26%\n",
            "------------------------------------------------\n",
            "Confusion Matrix:\n",
            "      0     1     2\n",
            "0  4218  1701   293\n",
            "1   342  7446   684\n",
            "2    80  1204  5830\n",
            "------------------------------------------------\n",
            "Classification Report:\n",
            "              precision    recall  f1-score   support\n",
            "\n",
            "           0       0.91      0.68      0.78      6212\n",
            "           1       0.72      0.88      0.79      8472\n",
            "           2       0.86      0.82      0.84      7114\n",
            "\n",
            "    accuracy                           0.80     21798\n",
            "   macro avg       0.83      0.79      0.80     21798\n",
            "weighted avg       0.82      0.80      0.80     21798\n",
            "\n"
          ]
        }
      ],
      "source": [
        "from sklearn.naive_bayes import MultinomialNB\n",
        "from sklearn.metrics import classification_report, confusion_matrix\n",
        "\n",
        "#Train a naive bayes classifier: MultinomialNB\n",
        "mnb = MultinomialNB()\n",
        "mnb.fit(x_train_vectorized, y_train)\n",
        "\n",
        "from sklearn import metrics\n",
        "mnb_predicted = mnb.predict(x_test_vectorized)\n",
        "accuracy_score_mnb = metrics.accuracy_score(y_test, mnb_predicted)\n",
        "mnb = MultinomialNB()\n",
        "mnb.fit(x_train_vectorized, y_train)\n",
        "\n",
        "print('MultinomialNB model accuracy is',str('{:04.2f}'.format(accuracy_score_mnb*100))+'%')\n",
        "print('------------------------------------------------')\n",
        "print('Confusion Matrix:')\n",
        "print(pd.DataFrame(confusion_matrix(y_test, mnb_predicted)))\n",
        "print('------------------------------------------------')\n",
        "print('Classification Report:')\n",
        "print(classification_report(y_test, mnb_predicted))"
      ]
    },
    {
      "cell_type": "code",
      "execution_count": 6,
      "metadata": {
        "colab": {
          "base_uri": "https://localhost:8080/"
        },
        "id": "ZjwpEb2CLKyl",
        "outputId": "957b4c69-6ad3-41e3-a645-eaca0bddb198"
      },
      "outputs": [
        {
          "name": "stdout",
          "output_type": "stream",
          "text": [
            "ComplementNB model accuracy is 82.79%\n",
            "------------------------------------------------\n",
            "Confusion Matrix:\n",
            "      0     1     2\n",
            "0  5215   612   385\n",
            "1   917  6482  1073\n",
            "2   213   551  6350\n",
            "------------------------------------------------\n",
            "Classification Report:\n",
            "              precision    recall  f1-score   support\n",
            "\n",
            "           0       0.82      0.84      0.83      6212\n",
            "           1       0.85      0.77      0.80      8472\n",
            "           2       0.81      0.89      0.85      7114\n",
            "\n",
            "    accuracy                           0.83     21798\n",
            "   macro avg       0.83      0.83      0.83     21798\n",
            "weighted avg       0.83      0.83      0.83     21798\n",
            "\n"
          ]
        }
      ],
      "source": [
        "from sklearn.naive_bayes import ComplementNB\n",
        "from sklearn.metrics import classification_report, confusion_matrix\n",
        "\n",
        "#Train a naive bayes classifier: ComplementNB\n",
        "cnb = ComplementNB()\n",
        "cnb.fit(x_train_vectorized, y_train)\n",
        "\n",
        "from sklearn import metrics\n",
        "cnb_predicted = cnb.predict(x_test_vectorized)\n",
        "accuracy_score_cnb = metrics.accuracy_score(y_test, cnb_predicted)\n",
        "\n",
        "print('ComplementNB model accuracy is',str('{:04.2f}'.format(accuracy_score_cnb*100))+'%')\n",
        "print('------------------------------------------------')\n",
        "print('Confusion Matrix:')\n",
        "print(pd.DataFrame(confusion_matrix(y_test, cnb_predicted)))\n",
        "print('------------------------------------------------')\n",
        "print('Classification Report:')\n",
        "print(classification_report(y_test, cnb_predicted))"
      ]
    },
    {
      "cell_type": "code",
      "execution_count": 7,
      "metadata": {
        "colab": {
          "base_uri": "https://localhost:8080/"
        },
        "id": "6lwH0xaILM3t",
        "outputId": "7c7ff33c-4f1b-4423-b7e4-f13a78a5fcbd"
      },
      "outputs": [
        {
          "name": "stdout",
          "output_type": "stream",
          "text": [
            "BernoulliNB model accuracy = 69.52%\n",
            "------------------------------------------------\n",
            "Confusion Matrix:\n",
            "      0     1     2\n",
            "0  2779  3291   142\n",
            "1   229  7885   358\n",
            "2    56  2569  4489\n",
            "------------------------------------------------\n",
            "Classification Report:\n",
            "              precision    recall  f1-score   support\n",
            "\n",
            "           0       0.91      0.45      0.60      6212\n",
            "           1       0.57      0.93      0.71      8472\n",
            "           2       0.90      0.63      0.74      7114\n",
            "\n",
            "    accuracy                           0.70     21798\n",
            "   macro avg       0.79      0.67      0.68     21798\n",
            "weighted avg       0.78      0.70      0.69     21798\n",
            "\n"
          ]
        }
      ],
      "source": [
        "from sklearn.naive_bayes import BernoulliNB\n",
        "\n",
        "#Train a naive bayes classifier: BernoulliNB\n",
        "bnb = BernoulliNB()\n",
        "bnb.fit(x_train_vectorized, y_train)\n",
        "\n",
        "bnb_predicted = bnb.predict(x_test_vectorized)\n",
        "accuracy_score_bnb = metrics.accuracy_score(y_test, bnb_predicted)\n",
        "\n",
        "print('BernoulliNB model accuracy = ' + str('{:4.2f}'.format(accuracy_score_bnb*100))+'%')\n",
        "print('------------------------------------------------')\n",
        "print('Confusion Matrix:')\n",
        "print(pd.DataFrame(confusion_matrix(y_test, bnb_predicted)))\n",
        "print('------------------------------------------------')\n",
        "print('Classification Report:')\n",
        "print(classification_report(y_test, bnb_predicted))"
      ]
    },
    {
      "cell_type": "markdown",
      "metadata": {
        "id": "GJjYrlioLRzp"
      },
      "source": [
        "After comparing, the complement model gave us the highest accuacy of 79%, followed by Multinomial then Bernoulli."
      ]
    },
    {
      "cell_type": "markdown",
      "metadata": {
        "id": "I8HhloJ-LSjX"
      },
      "source": [
        "Here we are calculating the ROC AUC score which tells how good the models are at identifying instances the 3 different classes: Negative, Neutral and Positive sentiments."
      ]
    },
    {
      "cell_type": "code",
      "execution_count": 8,
      "metadata": {
        "colab": {
          "base_uri": "https://localhost:8080/"
        },
        "id": "l2FtQXdCLUfk",
        "outputId": "789be28a-3b64-4b37-8935-c4f24e1487c5"
      },
      "outputs": [
        {
          "name": "stdout",
          "output_type": "stream",
          "text": [
            "Naive Bayes Multinomial ROC AUC Score: 0.9307\n",
            "Naive Bayes Complement ROC AUC Score: 0.9409\n",
            "Naive Bayes Bernoulli ROC AUC Score: 0.9268\n"
          ]
        }
      ],
      "source": [
        "from sklearn.metrics import roc_auc_score\n",
        "\n",
        "#Compare probabilities and ROC AUC score\n",
        "MNB_prob = mnb.predict_proba(x_test_vectorized)\n",
        "roc_auc_mnb = roc_auc_score(y_test, MNB_prob, multi_class='ovr')\n",
        "print(f'Naive Bayes Multinomial ROC AUC Score: {roc_auc_mnb:.4f}')\n",
        "\n",
        "CNB_prob = cnb.predict_proba(x_test_vectorized)\n",
        "roc_auc_cnb = roc_auc_score(y_test, CNB_prob, multi_class='ovr')\n",
        "print(f'Naive Bayes Complement ROC AUC Score: {roc_auc_cnb:.4f}')\n",
        "\n",
        "BNB_prob = bnb.predict_proba(x_test_vectorized)\n",
        "roc_auc_bnb = roc_auc_score(y_test, BNB_prob, multi_class='ovr')\n",
        "print(f'Naive Bayes Bernoulli ROC AUC Score: {roc_auc_bnb:.4f}')"
      ]
    },
    {
      "cell_type": "code",
      "execution_count": 9,
      "metadata": {
        "colab": {
          "base_uri": "https://localhost:8080/",
          "height": 472
        },
        "id": "mJGgxCh6OqAs",
        "outputId": "68f07a2c-d759-429b-9fee-75abc4b41fa8"
      },
      "outputs": [
        {
          "data": {
            "image/png": "[encoded data removed]",
            "text/plain": [
              "<Figure size 640x480 with 1 Axes>"
            ]
          },
          "metadata": {},
          "output_type": "display_data"
        }
      ],
      "source": [
        "from matplotlib import pyplot as plt\n",
        "from sklearn.metrics import roc_curve\n",
        "from sklearn.metrics import auc\n",
        "\n",
        "CNB_prob_before = cnb.predict_proba(x_test_vectorized)\n",
        "MNB_prob_before = mnb.predict_proba(x_test_vectorized)\n",
        "BNB_prob_before = bnb.predict_proba(x_test_vectorized)\n",
        "\n",
        "fpr1_before, tpr1_before, _ = roc_curve(y_test, CNB_prob_before[:,1], pos_label=1)\n",
        "fpr2_before, tpr2_before, _ = roc_curve(y_test, MNB_prob_before[:,1], pos_label=1)\n",
        "fpr3_before, tpr3_before, _ = roc_curve(y_test, BNB_prob_before[:,1], pos_label=1)\n",
        "\n",
        "#Plotting\n",
        "plt.plot(fpr1_before, tpr1_before, linestyle='--',color='red', label='CNB Model Before Tuning')\n",
        "plt.plot(fpr2_before, tpr2_before, linestyle='--',color='green', label='MNB Model Before Tuning')\n",
        "plt.plot(fpr3_before, tpr3_before, linestyle='--',color='blue', label='BNB Model Before Tuning')\n",
        "\n",
        "plt.title('ROC curve Before Hyperparameter Tuning')\n",
        "plt.xlabel('False Positive Rate')\n",
        "plt.ylabel('True Positive rate')\n",
        "plt.legend(loc='best')\n",
        "plt.savefig('ROC_Before_Tuning', dpi=300)\n",
        "plt.show();"
      ]
    },
    {
      "cell_type": "markdown",
      "metadata": {
        "id": "_MWSTBg0LeWm"
      },
      "source": [
        "The ROC (Receiver Operating Characteristic) curve visually represents a model's performance by plotting the true positive rate against the false positive rate at various classification thresholds. It helps assess the trade-off between sensitivity (true positives) and specificity (false positives). A model with a curve closer to the top left corner indicates better performance, and the area under the curve (AUC) quantifies overall accuracy."
      ]
    },
    {
      "cell_type": "markdown",
      "metadata": {
        "id": "_NSlW0qBLf00"
      },
      "source": [
        "From the results given above, the complement model has the best ROC AUC score of 0.9203."
      ]
    },
    {
      "cell_type": "markdown",
      "metadata": {
        "id": "HIoJwWpQLlB0"
      },
      "source": [
        "Here, we will do hyperparameter tuning for the 3 models and compare which model gives us a better accuracy after the model has been tuned."
      ]
    },
    {
      "cell_type": "code",
      "execution_count": 10,
      "metadata": {
        "colab": {
          "base_uri": "https://localhost:8080/"
        },
        "id": "hskTHgKXLojE",
        "outputId": "c947f997-70dd-4a39-bc0c-51540787abc4"
      },
      "outputs": [
        {
          "name": "stdout",
          "output_type": "stream",
          "text": [
            "Best Parameters: {'alpha': 0.1}\n",
            "Best Cross-Validation Score: 0.7866692882422336\n",
            "Best Hyperparameters: {'alpha': 0.1}\n",
            "Accuracy for multinomial model: 83.23699421965318%\n"
          ]
        },
        {
          "ename": "ValueError",
          "evalue": "X has 244168 features, but MultinomialNB is expecting 239569 features as input.",
          "output_type": "error",
          "traceback": [
            "\u001b[1;31m---------------------------------------------------------------------------\u001b[0m",
            "\u001b[1;31mValueError\u001b[0m                                Traceback (most recent call last)",
            "Cell \u001b[1;32mIn[10], line 37\u001b[0m\n\u001b[0;32m     34\u001b[0m \u001b[38;5;28mprint\u001b[39m(\u001b[38;5;124mf\u001b[39m\u001b[38;5;124m'\u001b[39m\u001b[38;5;124mAccuracy for multinomial model: \u001b[39m\u001b[38;5;132;01m{\u001b[39;00maccuracyMNB\u001b[38;5;250m \u001b[39m\u001b[38;5;241m*\u001b[39m\u001b[38;5;250m \u001b[39m\u001b[38;5;241m100\u001b[39m\u001b[38;5;132;01m}\u001b[39;00m\u001b[38;5;124m%\u001b[39m\u001b[38;5;124m'\u001b[39m)\n\u001b[0;32m     36\u001b[0m \u001b[38;5;66;03m#Calculate ROC AUC Score\u001b[39;00m\n\u001b[1;32m---> 37\u001b[0m MNB_prob \u001b[38;5;241m=\u001b[39m \u001b[43mbest_clf\u001b[49m\u001b[38;5;241;43m.\u001b[39;49m\u001b[43mpredict_proba\u001b[49m\u001b[43m(\u001b[49m\u001b[43mx_test_vectorized\u001b[49m\u001b[43m)\u001b[49m\n\u001b[0;32m     38\u001b[0m MNB_roc_auc \u001b[38;5;241m=\u001b[39m roc_auc_score(y_test, MNB_prob, multi_class\u001b[38;5;241m=\u001b[39m\u001b[38;5;124m'\u001b[39m\u001b[38;5;124movr\u001b[39m\u001b[38;5;124m'\u001b[39m)\n\u001b[0;32m     39\u001b[0m \u001b[38;5;28mprint\u001b[39m(\u001b[38;5;124mf\u001b[39m\u001b[38;5;124m'\u001b[39m\u001b[38;5;124mROC AUC Score: \u001b[39m\u001b[38;5;132;01m{\u001b[39;00mMNB_roc_auc\u001b[38;5;132;01m:\u001b[39;00m\u001b[38;5;124m.4f\u001b[39m\u001b[38;5;132;01m}\u001b[39;00m\u001b[38;5;124m'\u001b[39m)\n",
            "File \u001b[1;32mc:\\Software\\Python\\Lib\\site-packages\\sklearn\\naive_bayes.py:144\u001b[0m, in \u001b[0;36m_BaseNB.predict_proba\u001b[1;34m(self, X)\u001b[0m\n\u001b[0;32m    128\u001b[0m \u001b[38;5;28;01mdef\u001b[39;00m \u001b[38;5;21mpredict_proba\u001b[39m(\u001b[38;5;28mself\u001b[39m, X):\n\u001b[0;32m    129\u001b[0m \u001b[38;5;250m    \u001b[39m\u001b[38;5;124;03m\"\"\"\u001b[39;00m\n\u001b[0;32m    130\u001b[0m \u001b[38;5;124;03m    Return probability estimates for the test vector X.\u001b[39;00m\n\u001b[0;32m    131\u001b[0m \n\u001b[1;32m   (...)\u001b[0m\n\u001b[0;32m    142\u001b[0m \u001b[38;5;124;03m        order, as they appear in the attribute :term:`classes_`.\u001b[39;00m\n\u001b[0;32m    143\u001b[0m \u001b[38;5;124;03m    \"\"\"\u001b[39;00m\n\u001b[1;32m--> 144\u001b[0m     \u001b[38;5;28;01mreturn\u001b[39;00m np\u001b[38;5;241m.\u001b[39mexp(\u001b[38;5;28;43mself\u001b[39;49m\u001b[38;5;241;43m.\u001b[39;49m\u001b[43mpredict_log_proba\u001b[49m\u001b[43m(\u001b[49m\u001b[43mX\u001b[49m\u001b[43m)\u001b[49m)\n",
            "File \u001b[1;32mc:\\Software\\Python\\Lib\\site-packages\\sklearn\\naive_bayes.py:122\u001b[0m, in \u001b[0;36m_BaseNB.predict_log_proba\u001b[1;34m(self, X)\u001b[0m\n\u001b[0;32m    106\u001b[0m \u001b[38;5;250m\u001b[39m\u001b[38;5;124;03m\"\"\"\u001b[39;00m\n\u001b[0;32m    107\u001b[0m \u001b[38;5;124;03mReturn log-probability estimates for the test vector X.\u001b[39;00m\n\u001b[0;32m    108\u001b[0m \n\u001b[1;32m   (...)\u001b[0m\n\u001b[0;32m    119\u001b[0m \u001b[38;5;124;03m    order, as they appear in the attribute :term:`classes_`.\u001b[39;00m\n\u001b[0;32m    120\u001b[0m \u001b[38;5;124;03m\"\"\"\u001b[39;00m\n\u001b[0;32m    121\u001b[0m check_is_fitted(\u001b[38;5;28mself\u001b[39m)\n\u001b[1;32m--> 122\u001b[0m X \u001b[38;5;241m=\u001b[39m \u001b[38;5;28;43mself\u001b[39;49m\u001b[38;5;241;43m.\u001b[39;49m\u001b[43m_check_X\u001b[49m\u001b[43m(\u001b[49m\u001b[43mX\u001b[49m\u001b[43m)\u001b[49m\n\u001b[0;32m    123\u001b[0m jll \u001b[38;5;241m=\u001b[39m \u001b[38;5;28mself\u001b[39m\u001b[38;5;241m.\u001b[39m_joint_log_likelihood(X)\n\u001b[0;32m    124\u001b[0m \u001b[38;5;66;03m# normalize by P(x) = P(f_1, ..., f_n)\u001b[39;00m\n",
            "File \u001b[1;32mc:\\Software\\Python\\Lib\\site-packages\\sklearn\\naive_bayes.py:574\u001b[0m, in \u001b[0;36m_BaseDiscreteNB._check_X\u001b[1;34m(self, X)\u001b[0m\n\u001b[0;32m    572\u001b[0m \u001b[38;5;28;01mdef\u001b[39;00m \u001b[38;5;21m_check_X\u001b[39m(\u001b[38;5;28mself\u001b[39m, X):\n\u001b[0;32m    573\u001b[0m \u001b[38;5;250m    \u001b[39m\u001b[38;5;124;03m\"\"\"Validate X, used only in predict* methods.\"\"\"\u001b[39;00m\n\u001b[1;32m--> 574\u001b[0m     \u001b[38;5;28;01mreturn\u001b[39;00m \u001b[38;5;28;43mself\u001b[39;49m\u001b[38;5;241;43m.\u001b[39;49m\u001b[43m_validate_data\u001b[49m\u001b[43m(\u001b[49m\u001b[43mX\u001b[49m\u001b[43m,\u001b[49m\u001b[43m \u001b[49m\u001b[43maccept_sparse\u001b[49m\u001b[38;5;241;43m=\u001b[39;49m\u001b[38;5;124;43m\"\u001b[39;49m\u001b[38;5;124;43mcsr\u001b[39;49m\u001b[38;5;124;43m\"\u001b[39;49m\u001b[43m,\u001b[49m\u001b[43m \u001b[49m\u001b[43mreset\u001b[49m\u001b[38;5;241;43m=\u001b[39;49m\u001b[38;5;28;43;01mFalse\u001b[39;49;00m\u001b[43m)\u001b[49m\n",
            "File \u001b[1;32mc:\\Software\\Python\\Lib\\site-packages\\sklearn\\base.py:654\u001b[0m, in \u001b[0;36mBaseEstimator._validate_data\u001b[1;34m(self, X, y, reset, validate_separately, cast_to_ndarray, **check_params)\u001b[0m\n\u001b[0;32m    651\u001b[0m     out \u001b[38;5;241m=\u001b[39m X, y\n\u001b[0;32m    653\u001b[0m \u001b[38;5;28;01mif\u001b[39;00m \u001b[38;5;129;01mnot\u001b[39;00m no_val_X \u001b[38;5;129;01mand\u001b[39;00m check_params\u001b[38;5;241m.\u001b[39mget(\u001b[38;5;124m\"\u001b[39m\u001b[38;5;124mensure_2d\u001b[39m\u001b[38;5;124m\"\u001b[39m, \u001b[38;5;28;01mTrue\u001b[39;00m):\n\u001b[1;32m--> 654\u001b[0m     \u001b[38;5;28;43mself\u001b[39;49m\u001b[38;5;241;43m.\u001b[39;49m\u001b[43m_check_n_features\u001b[49m\u001b[43m(\u001b[49m\u001b[43mX\u001b[49m\u001b[43m,\u001b[49m\u001b[43m \u001b[49m\u001b[43mreset\u001b[49m\u001b[38;5;241;43m=\u001b[39;49m\u001b[43mreset\u001b[49m\u001b[43m)\u001b[49m\n\u001b[0;32m    656\u001b[0m \u001b[38;5;28;01mreturn\u001b[39;00m out\n",
            "File \u001b[1;32mc:\\Software\\Python\\Lib\\site-packages\\sklearn\\base.py:443\u001b[0m, in \u001b[0;36mBaseEstimator._check_n_features\u001b[1;34m(self, X, reset)\u001b[0m\n\u001b[0;32m    440\u001b[0m     \u001b[38;5;28;01mreturn\u001b[39;00m\n\u001b[0;32m    442\u001b[0m \u001b[38;5;28;01mif\u001b[39;00m n_features \u001b[38;5;241m!=\u001b[39m \u001b[38;5;28mself\u001b[39m\u001b[38;5;241m.\u001b[39mn_features_in_:\n\u001b[1;32m--> 443\u001b[0m     \u001b[38;5;28;01mraise\u001b[39;00m \u001b[38;5;167;01mValueError\u001b[39;00m(\n\u001b[0;32m    444\u001b[0m         \u001b[38;5;124mf\u001b[39m\u001b[38;5;124m\"\u001b[39m\u001b[38;5;124mX has \u001b[39m\u001b[38;5;132;01m{\u001b[39;00mn_features\u001b[38;5;132;01m}\u001b[39;00m\u001b[38;5;124m features, but \u001b[39m\u001b[38;5;132;01m{\u001b[39;00m\u001b[38;5;28mself\u001b[39m\u001b[38;5;241m.\u001b[39m\u001b[38;5;18m__class__\u001b[39m\u001b[38;5;241m.\u001b[39m\u001b[38;5;18m__name__\u001b[39m\u001b[38;5;132;01m}\u001b[39;00m\u001b[38;5;124m \u001b[39m\u001b[38;5;124m\"\u001b[39m\n\u001b[0;32m    445\u001b[0m         \u001b[38;5;124mf\u001b[39m\u001b[38;5;124m\"\u001b[39m\u001b[38;5;124mis expecting \u001b[39m\u001b[38;5;132;01m{\u001b[39;00m\u001b[38;5;28mself\u001b[39m\u001b[38;5;241m.\u001b[39mn_features_in_\u001b[38;5;132;01m}\u001b[39;00m\u001b[38;5;124m features as input.\u001b[39m\u001b[38;5;124m\"\u001b[39m\n\u001b[0;32m    446\u001b[0m     )\n",
            "\u001b[1;31mValueError\u001b[0m: X has 244168 features, but MultinomialNB is expecting 239569 features as input."
          ]
        }
      ],
      "source": [
        "from sklearn.model_selection import train_test_split, GridSearchCV\n",
        "from sklearn.metrics import accuracy_score\n",
        "#Vectorize the text data\n",
        "vectorizer = TfidfVectorizer(ngram_range=(1, 2))\n",
        "x_train_vec = vectorizer.fit_transform(x_train)\n",
        "x_test_vec = vectorizer.transform(x_test)\n",
        "\n",
        "#Define the hyperparameter grid\n",
        "param_grid = {\n",
        "    'alpha': [0.1, 0.5, 1.0, 5.0, 10.0]\n",
        "}\n",
        "\n",
        "#Perform GridSearchCV on multinomial model\n",
        "grid_search = GridSearchCV(mnb, param_grid, cv=5, scoring='accuracy')\n",
        "grid_search.fit(x_train_vec, y_train)\n",
        "\n",
        "#Print the best parameters and best score\n",
        "print(f\"Best Parameters: {grid_search.best_params_}\")\n",
        "print(f\"Best Cross-Validation Score: {grid_search.best_score_}\")\n",
        "\n",
        "#Get the best model and hyperparameters\n",
        "best_clf = grid_search.best_estimator_\n",
        "print(f'Best Hyperparameters: {grid_search.best_params_}')\n",
        "\n",
        "#Make predictions on the test set with the best model\n",
        "predictionsMNB = best_clf.predict(x_test_vec)\n",
        "\n",
        "#Retrain the model using the best parameters\n",
        "MNB_best_model = grid_search.best_estimator_\n",
        "MNB_best_model.fit(x_train_vec, y_train)\n",
        "\n",
        "#Calculate the accuracy\n",
        "accuracyMNB = accuracy_score(y_test, predictionsMNB)\n",
        "print(f'Accuracy for multinomial model: {accuracyMNB * 100}%')\n",
        "\n",
        "#Calculate ROC AUC Score\n",
        "MNB_prob = best_clf.predict_proba(x_test_vectorized)\n",
        "MNB_roc_auc = roc_auc_score(y_test, MNB_prob, multi_class='ovr')\n",
        "print(f'ROC AUC Score: {MNB_roc_auc:.4f}')"
      ]
    },
    {
      "cell_type": "code",
      "execution_count": null,
      "metadata": {
        "colab": {
          "base_uri": "https://localhost:8080/"
        },
        "id": "mLQHfHngLsv-",
        "outputId": "721031ad-4e4a-49fc-8cda-4e2f73376946"
      },
      "outputs": [
        {
          "name": "stdout",
          "output_type": "stream",
          "text": [
            "Best Parameters: {'alpha': 1.0}\n",
            "Best Cross-Validation Score: 0.7886944553676759\n",
            "Best Hyperparameters: {'alpha': 1.0}\n",
            "Accuracy for complement model: 82.74153592072668%\n",
            "ROC AUC Score: 0.9410\n"
          ]
        }
      ],
      "source": [
        "from sklearn.model_selection import train_test_split, GridSearchCV\n",
        "from sklearn.metrics import accuracy_score\n",
        "#Vectorize the text data\n",
        "vectorizer = TfidfVectorizer(ngram_range=(1, 2))\n",
        "x_train_vec = vectorizer.fit_transform(x_train)\n",
        "x_test_vec = vectorizer.transform(x_test)\n",
        "\n",
        "#Define the hyperparameter grid\n",
        "param_grid = {\n",
        "    'alpha': [0.1, 0.5, 1.0, 5.0, 10.0]\n",
        "}\n",
        "\n",
        "#Perform GridSearchCV on complement model\n",
        "grid_search = GridSearchCV(cnb, param_grid, cv=5, scoring='accuracy')\n",
        "grid_search.fit(x_train_vec, y_train)\n",
        "\n",
        "#Print the best parameters and best score\n",
        "print(f\"Best Parameters: {grid_search.best_params_}\")\n",
        "print(f\"Best Cross-Validation Score: {grid_search.best_score_}\")\n",
        "\n",
        "#Get the best model and hyperparameters\n",
        "best_clf = grid_search.best_estimator_\n",
        "print(f'Best Hyperparameters: {grid_search.best_params_}')\n",
        "\n",
        "#Make predictions on the test set with the best model\n",
        "predictionsCNB = best_clf.predict(x_test_vec)\n",
        "\n",
        "#Retrain the model using the best parameters\n",
        "CNB_best_model = grid_search.best_estimator_\n",
        "CNB_best_model.fit(x_train_vec, y_train)\n",
        "\n",
        "#Calculate the accuracy\n",
        "accuracyCNB = accuracy_score(y_test, predictionsCNB)\n",
        "print(f'Accuracy for complement model: {accuracyCNB * 100}%')\n",
        "\n",
        "#Calculate ROC AUC Score\n",
        "CNB_prob = best_clf.predict_proba(x_test_vectorized)\n",
        "CNB_roc_auc = roc_auc_score(y_test, CNB_prob, multi_class='ovr')\n",
        "print(f'ROC AUC Score: {CNB_roc_auc:.4f}')"
      ]
    },
    {
      "cell_type": "code",
      "execution_count": null,
      "metadata": {
        "colab": {
          "base_uri": "https://localhost:8080/"
        },
        "id": "9mzbT7NbLtqe",
        "outputId": "166bf71c-6216-46aa-a26f-7d1566db3aaa"
      },
      "outputs": [
        {
          "name": "stdout",
          "output_type": "stream",
          "text": [
            "Best Parameters: {'alpha': 0.1}\n",
            "Best Cross-Validation Score: 0.7736924891860009\n",
            "Best Hyperparameters: {'alpha': 0.1}\n",
            "Accuracy for bernoulli model: 81.7643820533994%\n",
            "ROC AUC Score: 0.9433\n"
          ]
        }
      ],
      "source": [
        "from sklearn.model_selection import train_test_split, GridSearchCV\n",
        "from sklearn.metrics import accuracy_score\n",
        "#Vectorize the text data\n",
        "vectorizer = TfidfVectorizer(ngram_range=(1, 2))\n",
        "x_train_vec = vectorizer.fit_transform(x_train)\n",
        "x_test_vec = vectorizer.transform(x_test)\n",
        "\n",
        "#Define the hyperparameter grid\n",
        "param_grid = {\n",
        "    'alpha': [0.1, 0.5, 1.0, 5.0, 10.0]\n",
        "}\n",
        "\n",
        "#Perform GridSearchCV on multinomial model\n",
        "grid_search = GridSearchCV(bnb, param_grid, cv=5, scoring='accuracy')\n",
        "grid_search.fit(x_train_vec, y_train)\n",
        "\n",
        "#Print the best parameters and best score\n",
        "print(f\"Best Parameters: {grid_search.best_params_}\")\n",
        "print(f\"Best Cross-Validation Score: {grid_search.best_score_}\")\n",
        "\n",
        "#Get the best model and hyperparameters\n",
        "best_clf = grid_search.best_estimator_\n",
        "print(f'Best Hyperparameters: {grid_search.best_params_}')\n",
        "\n",
        "#Make predictions on the test set with the best model\n",
        "predictionsBNB = best_clf.predict(x_test_vec)\n",
        "\n",
        "#Retrain the model using the best parameters\n",
        "BNB_best_model = grid_search.best_estimator_\n",
        "BNB_best_model.fit(x_train_vec, y_train)\n",
        "\n",
        "#Calculate the accuracy\n",
        "accuracyBNB = accuracy_score(y_test, predictionsBNB)\n",
        "print(f'Accuracy for bernoulli model: {accuracyBNB * 100}%')\n",
        "\n",
        "#Calculate ROC AUC Score\n",
        "BNB_prob = best_clf.predict_proba(x_test_vectorized)\n",
        "BNB_roc_auc = roc_auc_score(y_test, BNB_prob, multi_class='ovr')\n",
        "print(f'ROC AUC Score: {BNB_roc_auc:.4f}')"
      ]
    },
    {
      "cell_type": "code",
      "execution_count": null,
      "metadata": {
        "colab": {
          "base_uri": "https://localhost:8080/"
        },
        "id": "y94yR0fULymo",
        "outputId": "1a04c6b5-7dd3-45f1-9b6a-dab7af053c16"
      },
      "outputs": [
        {
          "name": "stdout",
          "output_type": "stream",
          "text": [
            "Best Model: MNB\n",
            "ROC AUC Score: 0.9551\n",
            "Accuracy: 0.8324\n"
          ]
        }
      ],
      "source": [
        "#Set roc_auc to best model\n",
        "roc_auc = max(BNB_roc_auc, CNB_roc_auc, MNB_roc_auc)\n",
        "\n",
        "#Determine the best model based on roc_auc\n",
        "best_model = \"BNB\" if roc_auc == BNB_roc_auc else (\"CNB\" if roc_auc == CNB_roc_auc else \"MNB\")\n",
        "\n",
        "#Set predictions to best model\n",
        "predictions = globals()[f\"predictions{best_model}\"]\n",
        "\n",
        "#Set accuracy to best model\n",
        "accuracy = globals()[f\"accuracy{best_model}\"]\n",
        "\n",
        "print(f'Best Model: {best_model}')\n",
        "print(f'ROC AUC Score: {roc_auc:.4f}')\n",
        "print(f'Accuracy: {accuracy:.4f}')"
      ]
    },
    {
      "cell_type": "markdown",
      "metadata": {
        "id": "nA8oDh8AL2hh"
      },
      "source": [
        "After the hyperparameter tuning process, the best model based on the highest ROC AUC score and accuracy is the multinomial model. This means that the multinomial model is the most accurate in identifying negative, neutral and positive sentiments."
      ]
    },
    {
      "cell_type": "markdown",
      "metadata": {
        "id": "V5XcO4jTL40m"
      },
      "source": [
        "Lastly, we will do our final evaluation and analysis. Here, we plot the confusion matrix, classification report and roc auc graph for the multinomial model."
      ]
    },
    {
      "cell_type": "code",
      "execution_count": null,
      "metadata": {
        "colab": {
          "base_uri": "https://localhost:8080/",
          "height": 472
        },
        "id": "XDwtkLbdL7sd",
        "outputId": "9dc1a545-de02-4c99-898e-0505c8337b05"
      },
      "outputs": [
        {
          "data": {
            "image/png": "[encoded data removed]",
            "text/plain": [
              "<Figure size 640x480 with 2 Axes>"
            ]
          },
          "metadata": {},
          "output_type": "display_data"
        }
      ],
      "source": [
        "from sklearn.metrics import ConfusionMatrixDisplay\n",
        "predictions = mnb.predict(x_test_vectorized)\n",
        "\n",
        "#Plot the confusion matrix\n",
        "cm = confusion_matrix(y_test, predictions, labels=[0, 1, 2])\n",
        "disp = ConfusionMatrixDisplay(confusion_matrix=cm, display_labels=['Negative', 'Neutral', 'Positive'])\n",
        "disp.plot(cmap=plt.cm.Blues)\n",
        "plt.title(\"Confusion Matrix\")\n",
        "plt.show()"
      ]
    },
    {
      "cell_type": "code",
      "execution_count": null,
      "metadata": {
        "colab": {
          "base_uri": "https://localhost:8080/"
        },
        "id": "Moay927RL-XI",
        "outputId": "04e25e2b-f384-4010-b85b-07e1bbc0183a"
      },
      "outputs": [
        {
          "name": "stdout",
          "output_type": "stream",
          "text": [
            "              precision    recall  f1-score   support\n",
            "\n",
            "    Negative       0.91      0.68      0.78      6212\n",
            "     Neutral       0.72      0.88      0.79      8472\n",
            "    Positive       0.86      0.82      0.84      7114\n",
            "\n",
            "    accuracy                           0.80     21798\n",
            "   macro avg       0.83      0.79      0.80     21798\n",
            "weighted avg       0.82      0.80      0.80     21798\n",
            "\n"
          ]
        }
      ],
      "source": [
        "print(classification_report(y_test, mnb.predict(x_test_vectorized), target_names=[\"Negative\", \"Neutral\", \"Positive\"]))"
      ]
    },
    {
      "cell_type": "markdown",
      "metadata": {
        "id": "nIFNrpK7Apbn"
      },
      "source": [
        "Based on the results given by the multinomial model, the model shows the highest precision for the \"Negative\" class, indicating that it is more likely to be correct when predicting a negative sentiment. Then it is followed by \"Positive\" then \"Neutral\".\n",
        "\n",
        "---\n",
        "However, when we look at the recall score, the order is in the complete opposite: the model has the highest recall for the \"Neutral\" class, meaning it is more effective at identifying true \"Neutral\" instances. Afterwards, it is followed by \"Positive\" then \"Negative\".\n",
        "\n",
        "\n",
        "---\n",
        "\n",
        "This analysis indicates that while the model is good at making accurate predictions for the \"Negative\" class when it does so, it struggles more with recall, particularly in this class. Conversely, it is better at capturing all \"Neutral\" instances but struggles with precision, leading to more false positives for \"Neutral.\"\n"
      ]
    },
    {
      "cell_type": "code",
      "execution_count": null,
      "metadata": {
        "colab": {
          "base_uri": "https://localhost:8080/",
          "height": 472
        },
        "id": "AP1MjsrZPUPg",
        "outputId": "1277d72f-59bb-4af9-ba8c-8f904acffe3e"
      },
      "outputs": [
        {
          "data": {
            "image/png": "[encoded data removed]",
            "text/plain": [
              "<Figure size 640x480 with 1 Axes>"
            ]
          },
          "metadata": {},
          "output_type": "display_data"
        }
      ],
      "source": [
        "#After hyperparameter tuning, generate new predictions\n",
        "CNB_prob_after = CNB_best_model.predict_proba(x_test_vectorized)\n",
        "MNB_prob_after = MNB_best_model.predict_proba(x_test_vectorized)\n",
        "BNB_prob_after = BNB_best_model.predict_proba(x_test_vectorized)\n",
        "\n",
        "#ROC curve after hyperparameter tuning\n",
        "fpr1_after, tpr1_after, _ = roc_curve(y_test, CNB_prob_after[:,1], pos_label=1)\n",
        "fpr2_after, tpr2_after, _ = roc_curve(y_test, MNB_prob_after[:,1], pos_label=1)\n",
        "fpr3_after, tpr3_after, _ = roc_curve(y_test, BNB_prob_after[:,1], pos_label=1)\n",
        "\n",
        "#Plotting\n",
        "plt.plot(fpr1_after, tpr1_after, linestyle='--',color='red', label='CNB Model After Tuning')\n",
        "plt.plot(fpr2_after, tpr2_after, linestyle='--',color='green', label='MNB Model After Tuning')\n",
        "plt.plot(fpr3_after, tpr3_after, linestyle='--',color='blue', label='BNB Model After Tuning')\n",
        "\n",
        "plt.title('ROC curve After Hyperparameter Tuning')\n",
        "plt.xlabel('False Positive Rate')\n",
        "plt.ylabel('True Positive rate')\n",
        "plt.legend(loc='best')\n",
        "plt.savefig('ROC_After_Tuning', dpi=300)\n",
        "plt.show();\n"
      ]
    },
    {
      "cell_type": "markdown",
      "metadata": {
        "id": "Lizyhfmhbxvd"
      },
      "source": [
        "The ROC curve corresponds with our results above where the best model that is able to identify correct instances of the 3 classes is the multinomial model. In conclusion, the best model with the highest accuracy is the Multinomial model with ROC AUC score of 0.9375 and accuracy of 81%."
      ]
    },
    {
      "cell_type": "code",
      "execution_count": null,
      "metadata": {},
      "outputs": [
        {
          "name": "stdout",
          "output_type": "stream",
          "text": [
            "Model saved successfully!\n"
          ]
        }
      ],
      "source": [
        "import joblib\n",
        "\n",
        "# Save the model to a file\n",
        "joblib.dump(MNB_best_model, 'naive_bayes_model.pkl')\n",
        "joblib.dump(vectorizer, 'vectorizer.pkl')\n",
        "\n",
        "print(\"Model saved successfully!\")"
      ]
    }
  ],
  "metadata": {
    "colab": {
      "provenance": []
    },
    "kernelspec": {
      "display_name": "Python 3",
      "name": "python3"
    },
    "language_info": {
      "codemirror_mode": {
        "name": "ipython",
        "version": 3
      },
      "file_extension": ".py",
      "mimetype": "text/x-python",
      "name": "python",
      "nbconvert_exporter": "python",
      "pygments_lexer": "ipython3",
      "version": "3.12.4"
    }
  },
  "nbformat": 4,
  "nbformat_minor": 0
}
